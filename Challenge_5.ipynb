{
  "cells": [
    {
      "cell_type": "markdown",
      "metadata": {
        "id": "view-in-github",
        "colab_type": "text"
      },
      "source": [
        "<a href=\"https://colab.research.google.com/github/JorgeHdzRiv/Defunciones-en-Guanajuato-y-Municipios/blob/main/Challenge_5.ipynb\" target=\"_parent\"><img src=\"https://colab.research.google.com/assets/colab-badge.svg\" alt=\"Open In Colab\"/></a>"
      ]
    },
    {
      "cell_type": "markdown",
      "metadata": {
        "id": "9F9WgW1TkcFc"
      },
      "source": [
        "# Challenge (5/8): Datos abiertos del Instituto Nacional de Estadística y Geografía (INEGI)\n",
        "\n",
        "Finalmente, hoy es el día. ¡Vamos a comenzar con Dash! 📊\n",
        "Hoy comenzamos nuestra travesía hacia la creación del dashboard en si mismo 😃 Continúa dando tu mejor esfuerzo 😉\n",
        "\n",
        "Pero antes de continuar, permíteme hacer una recapitulación de lo que aprendiste en el reto anterior:\n",
        "1. Crear un mapa con los elementos necesarios para responder tus preguntas.\n",
        "2. Leer y graficar mapas a través de archivos ShapeFile.\n",
        "3. Hacer uso de una de las alternativas GIS disponibles para Python.\n",
        "\n",
        "Siguiendo la dinámica del reto anterior, ahora toca comenzar a cosntruir tu tablero."
      ]
    },
    {
      "cell_type": "markdown",
      "metadata": {
        "id": "VUTdJ7huJKM2"
      },
      "source": [
        "## 1. Tablero\n",
        "Aquí comenzarás a construir tu tablero. Primero lo primero, vamos con la estructura (esqueleto) del mismo y luego nos preocuparemos de la funcionalidad."
      ]
    },
    {
      "cell_type": "markdown",
      "metadata": {
        "id": "fc1m_4sIOLAk"
      },
      "source": [
        "Completa las siguientes tareas:\n",
        "1. Construye una aplicación que sea una instancia de Jupyter Dash.\n",
        "2. Añade un elemento html.Div que englobará a todos los demás elementos a añadir en el tablero.\n",
        "3. Dentro del html.Div general añade un título para tu tablero con un componente html.H1 y, si lo requieres, un subtítulo con html.H2\n",
        "4. Agrega al menos dos de las gráficas que has hecho. Luego nos preocuparemos por los estilos y que se vea bien, pero de momento corrobora que funcionen dentro del tablero.\n",
        "5. Introduce también el mapa que generaste en el reto anterior."
      ]
    },
    {
      "cell_type": "code",
      "execution_count": 1,
      "metadata": {
        "id": "o47XGOPK8qG-",
        "colab": {
          "base_uri": "https://localhost:8080/"
        },
        "outputId": "efcaf866-f1e4-4f53-e61f-91071e67955f"
      },
      "outputs": [
        {
          "output_type": "stream",
          "name": "stdout",
          "text": [
            "Looking in indexes: https://pypi.org/simple, https://us-python.pkg.dev/colab-wheels/public/simple/\n",
            "Requirement already satisfied: plotly in /usr/local/lib/python3.7/dist-packages (5.5.0)\n",
            "Requirement already satisfied: six in /usr/local/lib/python3.7/dist-packages (from plotly) (1.15.0)\n",
            "Requirement already satisfied: tenacity>=6.2.0 in /usr/local/lib/python3.7/dist-packages (from plotly) (8.1.0)\n",
            "Looking in indexes: https://pypi.org/simple, https://us-python.pkg.dev/colab-wheels/public/simple/\n",
            "Collecting jupyter-dash\n",
            "  Downloading jupyter_dash-0.4.2-py3-none-any.whl (23 kB)\n",
            "Requirement already satisfied: flask in /usr/local/lib/python3.7/dist-packages (from jupyter-dash) (1.1.4)\n",
            "Collecting dash\n",
            "  Downloading dash-2.6.2-py3-none-any.whl (9.8 MB)\n",
            "\u001b[K     |████████████████████████████████| 9.8 MB 2.6 MB/s \n",
            "\u001b[?25hCollecting nest-asyncio\n",
            "  Downloading nest_asyncio-1.5.6-py3-none-any.whl (5.2 kB)\n",
            "Collecting retrying\n",
            "  Downloading retrying-1.3.3.tar.gz (10 kB)\n",
            "Collecting ansi2html\n",
            "  Downloading ansi2html-1.8.0-py3-none-any.whl (16 kB)\n",
            "Requirement already satisfied: ipython in /usr/local/lib/python3.7/dist-packages (from jupyter-dash) (7.9.0)\n",
            "Requirement already satisfied: requests in /usr/local/lib/python3.7/dist-packages (from jupyter-dash) (2.23.0)\n",
            "Requirement already satisfied: ipykernel in /usr/local/lib/python3.7/dist-packages (from jupyter-dash) (5.3.4)\n",
            "Requirement already satisfied: importlib-metadata in /usr/local/lib/python3.7/dist-packages (from ansi2html->jupyter-dash) (5.0.0)\n",
            "Collecting dash-core-components==2.0.0\n",
            "  Downloading dash_core_components-2.0.0-py3-none-any.whl (3.8 kB)\n",
            "Collecting dash-html-components==2.0.0\n",
            "  Downloading dash_html_components-2.0.0-py3-none-any.whl (4.1 kB)\n",
            "Requirement already satisfied: plotly>=5.0.0 in /usr/local/lib/python3.7/dist-packages (from dash->jupyter-dash) (5.5.0)\n",
            "Collecting dash-table==5.0.0\n",
            "  Downloading dash_table-5.0.0-py3-none-any.whl (3.9 kB)\n",
            "Collecting flask-compress\n",
            "  Downloading Flask_Compress-1.13-py3-none-any.whl (7.9 kB)\n",
            "Requirement already satisfied: Jinja2<3.0,>=2.10.1 in /usr/local/lib/python3.7/dist-packages (from flask->jupyter-dash) (2.11.3)\n",
            "Requirement already satisfied: itsdangerous<2.0,>=0.24 in /usr/local/lib/python3.7/dist-packages (from flask->jupyter-dash) (1.1.0)\n",
            "Requirement already satisfied: click<8.0,>=5.1 in /usr/local/lib/python3.7/dist-packages (from flask->jupyter-dash) (7.1.2)\n",
            "Requirement already satisfied: Werkzeug<2.0,>=0.15 in /usr/local/lib/python3.7/dist-packages (from flask->jupyter-dash) (1.0.1)\n",
            "Requirement already satisfied: MarkupSafe>=0.23 in /usr/local/lib/python3.7/dist-packages (from Jinja2<3.0,>=2.10.1->flask->jupyter-dash) (2.0.1)\n",
            "Requirement already satisfied: tenacity>=6.2.0 in /usr/local/lib/python3.7/dist-packages (from plotly>=5.0.0->dash->jupyter-dash) (8.1.0)\n",
            "Requirement already satisfied: six in /usr/local/lib/python3.7/dist-packages (from plotly>=5.0.0->dash->jupyter-dash) (1.15.0)\n",
            "Collecting brotli\n",
            "  Downloading Brotli-1.0.9-cp37-cp37m-manylinux1_x86_64.whl (357 kB)\n",
            "\u001b[K     |████████████████████████████████| 357 kB 42.2 MB/s \n",
            "\u001b[?25hRequirement already satisfied: zipp>=0.5 in /usr/local/lib/python3.7/dist-packages (from importlib-metadata->ansi2html->jupyter-dash) (3.8.1)\n",
            "Requirement already satisfied: typing-extensions>=3.6.4 in /usr/local/lib/python3.7/dist-packages (from importlib-metadata->ansi2html->jupyter-dash) (4.1.1)\n",
            "Requirement already satisfied: tornado>=4.2 in /usr/local/lib/python3.7/dist-packages (from ipykernel->jupyter-dash) (5.1.1)\n",
            "Requirement already satisfied: traitlets>=4.1.0 in /usr/local/lib/python3.7/dist-packages (from ipykernel->jupyter-dash) (5.1.1)\n",
            "Requirement already satisfied: jupyter-client in /usr/local/lib/python3.7/dist-packages (from ipykernel->jupyter-dash) (6.1.12)\n",
            "Collecting jedi>=0.10\n",
            "  Downloading jedi-0.18.1-py2.py3-none-any.whl (1.6 MB)\n",
            "\u001b[K     |████████████████████████████████| 1.6 MB 47.8 MB/s \n",
            "\u001b[?25hRequirement already satisfied: decorator in /usr/local/lib/python3.7/dist-packages (from ipython->jupyter-dash) (4.4.2)\n",
            "Requirement already satisfied: pickleshare in /usr/local/lib/python3.7/dist-packages (from ipython->jupyter-dash) (0.7.5)\n",
            "Requirement already satisfied: pygments in /usr/local/lib/python3.7/dist-packages (from ipython->jupyter-dash) (2.6.1)\n",
            "Requirement already satisfied: backcall in /usr/local/lib/python3.7/dist-packages (from ipython->jupyter-dash) (0.2.0)\n",
            "Requirement already satisfied: setuptools>=18.5 in /usr/local/lib/python3.7/dist-packages (from ipython->jupyter-dash) (57.4.0)\n",
            "Requirement already satisfied: pexpect in /usr/local/lib/python3.7/dist-packages (from ipython->jupyter-dash) (4.8.0)\n",
            "Requirement already satisfied: prompt-toolkit<2.1.0,>=2.0.0 in /usr/local/lib/python3.7/dist-packages (from ipython->jupyter-dash) (2.0.10)\n",
            "Requirement already satisfied: parso<0.9.0,>=0.8.0 in /usr/local/lib/python3.7/dist-packages (from jedi>=0.10->ipython->jupyter-dash) (0.8.3)\n",
            "Requirement already satisfied: wcwidth in /usr/local/lib/python3.7/dist-packages (from prompt-toolkit<2.1.0,>=2.0.0->ipython->jupyter-dash) (0.2.5)\n",
            "Requirement already satisfied: jupyter-core>=4.6.0 in /usr/local/lib/python3.7/dist-packages (from jupyter-client->ipykernel->jupyter-dash) (4.11.1)\n",
            "Requirement already satisfied: python-dateutil>=2.1 in /usr/local/lib/python3.7/dist-packages (from jupyter-client->ipykernel->jupyter-dash) (2.8.2)\n",
            "Requirement already satisfied: pyzmq>=13 in /usr/local/lib/python3.7/dist-packages (from jupyter-client->ipykernel->jupyter-dash) (23.2.1)\n",
            "Requirement already satisfied: ptyprocess>=0.5 in /usr/local/lib/python3.7/dist-packages (from pexpect->ipython->jupyter-dash) (0.7.0)\n",
            "Requirement already satisfied: chardet<4,>=3.0.2 in /usr/local/lib/python3.7/dist-packages (from requests->jupyter-dash) (3.0.4)\n",
            "Requirement already satisfied: certifi>=2017.4.17 in /usr/local/lib/python3.7/dist-packages (from requests->jupyter-dash) (2022.9.24)\n",
            "Requirement already satisfied: urllib3!=1.25.0,!=1.25.1,<1.26,>=1.21.1 in /usr/local/lib/python3.7/dist-packages (from requests->jupyter-dash) (1.24.3)\n",
            "Requirement already satisfied: idna<3,>=2.5 in /usr/local/lib/python3.7/dist-packages (from requests->jupyter-dash) (2.10)\n",
            "Building wheels for collected packages: retrying\n",
            "  Building wheel for retrying (setup.py) ... \u001b[?25l\u001b[?25hdone\n",
            "  Created wheel for retrying: filename=retrying-1.3.3-py3-none-any.whl size=11447 sha256=865dda6a1bd06f90e2f5eb25bdce5b0fbda0802bb9e6d82113a977fc0f9f8c47\n",
            "  Stored in directory: /root/.cache/pip/wheels/f9/8d/8d/f6af3f7f9eea3553bc2fe6d53e4b287dad18b06a861ac56ddf\n",
            "Successfully built retrying\n",
            "Installing collected packages: jedi, brotli, flask-compress, dash-table, dash-html-components, dash-core-components, retrying, nest-asyncio, dash, ansi2html, jupyter-dash\n",
            "Successfully installed ansi2html-1.8.0 brotli-1.0.9 dash-2.6.2 dash-core-components-2.0.0 dash-html-components-2.0.0 dash-table-5.0.0 flask-compress-1.13 jedi-0.18.1 jupyter-dash-0.4.2 nest-asyncio-1.5.6 retrying-1.3.3\n"
          ]
        }
      ],
      "source": [
        "# Si no se tuviera instalar plotly con:\n",
        "!pip install plotly\n",
        "\n",
        "!pip install jupyter-dash\n"
      ]
    },
    {
      "cell_type": "code",
      "source": [
        "'''Construye una aplicación que sea una instancia de Jupyter Dash.\n",
        "Añade un elemento html.Div que englobará a todos los demás elementos a añadir en el tablero.\n",
        "Dentro del html.Div general añade un título para tu tablero con un componente html.H1 y, si lo requieres, un subtítulo con html.H2\n",
        "Agrega al menos dos de las gráficas que has hecho. Luego nos preocuparemos por los estilos y que se vea bien, pero de momento corrobora que funcionen dentro del tablero.\n",
        "Introduce también el mapa que generaste en el reto anterior.'''\n",
        "\n",
        "# -*- coding: utf-8 -*-\n",
        "\n",
        "import dash\n",
        "from dash import dcc # Dash core components\n",
        "from dash import html\n",
        "import plotly.express as px\n",
        "import pandas as pd\n",
        "from jupyter_dash import JupyterDash\n",
        "import numpy as np\n",
        "\n",
        "\n",
        "#external_stylesheets = ['estilos.css']\n",
        "\n",
        "app = JupyterDash()#, external_stylesheets=external_stylesheets)\n",
        "\n",
        "#Selección de los datos\n",
        "df = pd.read_csv('https://media.githubusercontent.com/media/JorgeHdzRiv/Defunciones-en-Guanajuato-y-Municipios/main/data/mortalidad/conjunto_de_datos/evmor_11_valor.csv')\n",
        "\n",
        "\n",
        "\n",
        "# Filtro para datos municipio y defunciones generales\n",
        "df_mun = df[(df['cve_municipio'] != 0) & (df['cve_municipio'] != 996)]\n",
        "\n",
        "df_mun_g = df_mun[(df_mun['id_indicador'] == 1002000030)]\n",
        "\n",
        "df_mun_h = df_mun[(df_mun['id_indicador'] == 1002000031)]\n",
        "\n",
        "df_mun_m = df_mun[(df_mun['id_indicador'] == 1002000032)]\n",
        "\n",
        "\n",
        "\n",
        "#Scatter plot sencilla para ejemplo\n",
        "fig = px.scatter(df_mun_g, x=\"año\", y=\"valor\")\n",
        "#fig.show()\n",
        "\n",
        "# Line charts sencilla para ejemplo\n",
        "fig_line = px.line(df_mun_g, x=\"año\", y=\"valor\", title='Defunciones en los municipios de Guanajuato', color='desc_municipio')\n",
        "#fig_line.show()\n",
        "\n",
        "app.layout = html.Div(children=[\n",
        "    html.H1(children='Defunciones en el estado de Guanajuato'), \n",
        "    html.H2(children='Subdivisión por municipios'),\n",
        "\n",
        "    html.Div(children='''\n",
        "        Scatter de defunciones.\n",
        "    '''),\n",
        "\n",
        "    dcc.Graph(\n",
        "        id='example-graph',\n",
        "        figure=fig\n",
        "    ),\n",
        "\n",
        "    html.Div(children='''\n",
        "         Grafica del tiempo por municipio.\n",
        "    '''),\n",
        "\n",
        "    dcc.Graph(\n",
        "        id='example-graph2',\n",
        "        figure=fig_line\n",
        "    ),\n",
        "])\n",
        "\n",
        "app.run_server(mode='inline')\n",
        "app.run_server(debug=True)"
      ],
      "metadata": {
        "colab": {
          "base_uri": "https://localhost:8080/",
          "height": 708
        },
        "id": "4E_dsUitC-Ro",
        "outputId": "b569939c-2d2d-4bf2-901f-29067f723436"
      },
      "execution_count": 2,
      "outputs": [
        {
          "output_type": "display_data",
          "data": {
            "text/plain": [
              "<IPython.core.display.Javascript object>"
            ],
            "application/javascript": [
              "(async (port, path, width, height, cache, element) => {\n",
              "    if (!google.colab.kernel.accessAllowed && !cache) {\n",
              "      return;\n",
              "    }\n",
              "    element.appendChild(document.createTextNode(''));\n",
              "    const url = await google.colab.kernel.proxyPort(port, {cache});\n",
              "    const iframe = document.createElement('iframe');\n",
              "    iframe.src = new URL(path, url).toString();\n",
              "    iframe.height = height;\n",
              "    iframe.width = width;\n",
              "    iframe.style.border = 0;\n",
              "    element.appendChild(iframe);\n",
              "  })(8050, \"/\", \"100%\", 650, false, window.element)"
            ]
          },
          "metadata": {}
        },
        {
          "output_type": "stream",
          "name": "stdout",
          "text": [
            "Dash app running on:\n"
          ]
        },
        {
          "output_type": "display_data",
          "data": {
            "text/plain": [
              "<IPython.core.display.Javascript object>"
            ],
            "application/javascript": [
              "(async (port, path, text, element) => {\n",
              "    if (!google.colab.kernel.accessAllowed) {\n",
              "      return;\n",
              "    }\n",
              "    element.appendChild(document.createTextNode(''));\n",
              "    const url = await google.colab.kernel.proxyPort(port);\n",
              "    const anchor = document.createElement('a');\n",
              "    anchor.href = new URL(path, url).toString();\n",
              "    anchor.target = '_blank';\n",
              "    anchor.setAttribute('data-href', url + path);\n",
              "    anchor.textContent = text;\n",
              "    element.appendChild(anchor);\n",
              "  })(8050, \"/\", \"http://127.0.0.1:8050/\", window.element)"
            ]
          },
          "metadata": {}
        }
      ]
    }
  ],
  "metadata": {
    "colab": {
      "provenance": [],
      "collapsed_sections": [],
      "include_colab_link": true
    },
    "kernelspec": {
      "display_name": "Python 3.10.7 64-bit",
      "language": "python",
      "name": "python3"
    },
    "language_info": {
      "codemirror_mode": {
        "name": "ipython",
        "version": 3
      },
      "file_extension": ".py",
      "mimetype": "text/x-python",
      "name": "python",
      "nbconvert_exporter": "python",
      "pygments_lexer": "ipython3",
      "version": "3.10.7"
    },
    "vscode": {
      "interpreter": {
        "hash": "9b08c9044cd959939240cbf789e09a957ff3db95952f3f867613436645c90b3d"
      }
    }
  },
  "nbformat": 4,
  "nbformat_minor": 0
}