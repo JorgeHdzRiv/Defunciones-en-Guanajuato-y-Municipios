{
  "cells": [
    {
      "cell_type": "markdown",
      "metadata": {
        "colab_type": "text",
        "id": "view-in-github"
      },
      "source": [
        "<a href=\"https://colab.research.google.com/github/JorgeHdzRiv/Defunciones-en-Guanajuato-y-Municipios/blob/main/Challenge6.ipynb\" target=\"_parent\"><img src=\"https://colab.research.google.com/assets/colab-badge.svg\" alt=\"Open In Colab\"/></a>"
      ]
    },
    {
      "cell_type": "markdown",
      "metadata": {
        "id": "9F9WgW1TkcFc"
      },
      "source": [
        "# Challenge (6/8): Datos abiertos del Instituto Nacional de Estadística y Geografía (INEGI)\n",
        "\n",
        "Puedo ver en tu rostro la emoción por haber creado tu primer tablero con Dash\n",
        "Ya que has dado tus primeros pasos hacia ese soñado tablero, ahora podemos enfocarnos en una de las particularidades más geniales de dash: los callbacks 🤓\n",
        "\n",
        "Pero antes de continuar, permíteme hacer una recapitulación de lo que aprendiste en el reto anterior:\n",
        "1. Crear un tablero básico utilizando Dash.\n",
        "2. Modificaste el layout del dashboard para integrar tus propias gráficas.\n",
        "\n",
        "Siguiendo la dinámica del reto anterior, ahora toca comenzar a añadir funcionalidad a tu tablero.\n",
        "\n",
        "NOTA: Utilizaremos los términos \"tablero\" y \"dashboard\" indistintamente a partir de este punto."
      ]
    },
    {
      "cell_type": "markdown",
      "metadata": {
        "id": "VUTdJ7huJKM2"
      },
      "source": [
        "## 1. Callbacks (Parte 1)\n",
        "En la clase hoy, vimos cómo crear un slider para variables de tiempo y selectores para variables categóricas.\n",
        "Ahora que ya tenemos la estructura de nuestro dashboard, comenzaremos a añadir algunas funcionalidades interesantes."
      ]
    },
    {
      "cell_type": "markdown",
      "metadata": {
        "id": "fc1m_4sIOLAk"
      },
      "source": [
        "Completa las siguientes tareas:\n",
        "1. Reutiliza el código del reto anterior para traer la estructura de tu dashboard a este reto.\n",
        "2. En este ejercicio ya no estamos respondiendo preguntas, sino utilizando controles para filtrar los datos. Piensa en al menos 2 variables categóricas y 1 de tiempo para convertirlas en filtros.\n",
        "*Consejo: si no tienes una columna de fecha, también puedes optar por alguna variable numérica cuyos valores sean discretos.*\n",
        "3. ¿Ya identificaste tu variable de fecha o numérica discreta? ¡Aprovéchala para construir un slider!\n",
        "4. Ahora es turno de las variables categóricas. Elije entre dropdowns, radio buttons o cualquier otro tipo de componente para crear un filtro por cada una de esas variables.\n",
        "\n",
        "Finalmente, observa cómo se filtran los datos cada que muevas el slider hacia un valor diferente, eso te permitirá saber si construiste tus filtros correctamente."
      ]
    },
    {
      "cell_type": "code",
      "execution_count": 2,
      "metadata": {
        "colab": {
          "base_uri": "https://localhost:8080/"
        },
        "id": "o47XGOPK8qG-",
        "outputId": "a8991b38-266b-4aa0-bfaa-73137a15693e"
      },
      "outputs": [
        {
          "name": "stdout",
          "output_type": "stream",
          "text": [
            "Requirement already satisfied: plotly in c:\\users\\jorge hdz\\appdata\\local\\programs\\python\\python310\\lib\\site-packages (5.10.0)\n",
            "Requirement already satisfied: tenacity>=6.2.0 in c:\\users\\jorge hdz\\appdata\\local\\programs\\python\\python310\\lib\\site-packages (from plotly) (8.1.0)\n",
            "Note: you may need to restart the kernel to use updated packages.\n",
            "Requirement already satisfied: jupyter-dash in c:\\users\\jorge hdz\\appdata\\local\\programs\\python\\python310\\lib\\site-packages (0.4.2)\n",
            "Requirement already satisfied: requests in c:\\users\\jorge hdz\\appdata\\local\\programs\\python\\python310\\lib\\site-packages (from jupyter-dash) (2.28.1)\n",
            "Requirement already satisfied: ipykernel in c:\\users\\jorge hdz\\appdata\\roaming\\python\\python310\\site-packages (from jupyter-dash) (6.16.0)\n",
            "Requirement already satisfied: dash in c:\\users\\jorge hdz\\appdata\\local\\programs\\python\\python310\\lib\\site-packages (from jupyter-dash) (2.6.2)\n",
            "Requirement already satisfied: retrying in c:\\users\\jorge hdz\\appdata\\local\\programs\\python\\python310\\lib\\site-packages (from jupyter-dash) (1.3.3)\n",
            "Requirement already satisfied: flask in c:\\users\\jorge hdz\\appdata\\local\\programs\\python\\python310\\lib\\site-packages (from jupyter-dash) (2.2.2)\n",
            "Requirement already satisfied: ansi2html in c:\\users\\jorge hdz\\appdata\\local\\programs\\python\\python310\\lib\\site-packages (from jupyter-dash) (1.8.0)\n",
            "Requirement already satisfied: nest-asyncio in c:\\users\\jorge hdz\\appdata\\roaming\\python\\python310\\site-packages (from jupyter-dash) (1.5.6)\n",
            "Requirement already satisfied: ipython in c:\\users\\jorge hdz\\appdata\\roaming\\python\\python310\\site-packages (from jupyter-dash) (8.5.0)\n",
            "Requirement already satisfied: flask-compress in c:\\users\\jorge hdz\\appdata\\local\\programs\\python\\python310\\lib\\site-packages (from dash->jupyter-dash) (1.13)\n",
            "Requirement already satisfied: dash-core-components==2.0.0 in c:\\users\\jorge hdz\\appdata\\local\\programs\\python\\python310\\lib\\site-packages (from dash->jupyter-dash) (2.0.0)\n",
            "Requirement already satisfied: dash-table==5.0.0 in c:\\users\\jorge hdz\\appdata\\local\\programs\\python\\python310\\lib\\site-packages (from dash->jupyter-dash) (5.0.0)\n",
            "Requirement already satisfied: plotly>=5.0.0 in c:\\users\\jorge hdz\\appdata\\local\\programs\\python\\python310\\lib\\site-packages (from dash->jupyter-dash) (5.10.0)\n",
            "Requirement already satisfied: dash-html-components==2.0.0 in c:\\users\\jorge hdz\\appdata\\local\\programs\\python\\python310\\lib\\site-packages (from dash->jupyter-dash) (2.0.0)\n",
            "Requirement already satisfied: Jinja2>=3.0 in c:\\users\\jorge hdz\\appdata\\local\\programs\\python\\python310\\lib\\site-packages (from flask->jupyter-dash) (3.1.2)\n",
            "Requirement already satisfied: Werkzeug>=2.2.2 in c:\\users\\jorge hdz\\appdata\\local\\programs\\python\\python310\\lib\\site-packages (from flask->jupyter-dash) (2.2.2)\n",
            "Requirement already satisfied: click>=8.0 in c:\\users\\jorge hdz\\appdata\\local\\programs\\python\\python310\\lib\\site-packages (from flask->jupyter-dash) (8.1.3)\n",
            "Requirement already satisfied: itsdangerous>=2.0 in c:\\users\\jorge hdz\\appdata\\local\\programs\\python\\python310\\lib\\site-packages (from flask->jupyter-dash) (2.1.2)\n",
            "Requirement already satisfied: traitlets>=5.1.0 in c:\\users\\jorge hdz\\appdata\\roaming\\python\\python310\\site-packages (from ipykernel->jupyter-dash) (5.4.0)\n",
            "Requirement already satisfied: pyzmq>=17 in c:\\users\\jorge hdz\\appdata\\roaming\\python\\python310\\site-packages (from ipykernel->jupyter-dash) (24.0.1)\n",
            "Requirement already satisfied: packaging in c:\\users\\jorge hdz\\appdata\\roaming\\python\\python310\\site-packages (from ipykernel->jupyter-dash) (21.3)\n",
            "Requirement already satisfied: psutil in c:\\users\\jorge hdz\\appdata\\roaming\\python\\python310\\site-packages (from ipykernel->jupyter-dash) (5.9.2)\n",
            "Requirement already satisfied: jupyter-client>=6.1.12 in c:\\users\\jorge hdz\\appdata\\roaming\\python\\python310\\site-packages (from ipykernel->jupyter-dash) (7.3.5)\n",
            "Requirement already satisfied: matplotlib-inline>=0.1 in c:\\users\\jorge hdz\\appdata\\roaming\\python\\python310\\site-packages (from ipykernel->jupyter-dash) (0.1.6)\n",
            "Requirement already satisfied: tornado>=6.1 in c:\\users\\jorge hdz\\appdata\\roaming\\python\\python310\\site-packages (from ipykernel->jupyter-dash) (6.2)\n",
            "Requirement already satisfied: debugpy>=1.0 in c:\\users\\jorge hdz\\appdata\\roaming\\python\\python310\\site-packages (from ipykernel->jupyter-dash) (1.6.3)\n",
            "Requirement already satisfied: pickleshare in c:\\users\\jorge hdz\\appdata\\roaming\\python\\python310\\site-packages (from ipython->jupyter-dash) (0.7.5)\n",
            "Requirement already satisfied: stack-data in c:\\users\\jorge hdz\\appdata\\roaming\\python\\python310\\site-packages (from ipython->jupyter-dash) (0.5.1)\n",
            "Requirement already satisfied: jedi>=0.16 in c:\\users\\jorge hdz\\appdata\\roaming\\python\\python310\\site-packages (from ipython->jupyter-dash) (0.18.1)\n",
            "Requirement already satisfied: pygments>=2.4.0 in c:\\users\\jorge hdz\\appdata\\roaming\\python\\python310\\site-packages (from ipython->jupyter-dash) (2.13.0)\n",
            "Requirement already satisfied: colorama in c:\\users\\jorge hdz\\appdata\\roaming\\python\\python310\\site-packages (from ipython->jupyter-dash) (0.4.5)\n",
            "Requirement already satisfied: decorator in c:\\users\\jorge hdz\\appdata\\roaming\\python\\python310\\site-packages (from ipython->jupyter-dash) (5.1.1)\n",
            "Requirement already satisfied: prompt-toolkit<3.1.0,>3.0.1 in c:\\users\\jorge hdz\\appdata\\roaming\\python\\python310\\site-packages (from ipython->jupyter-dash) (3.0.31)\n",
            "Requirement already satisfied: backcall in c:\\users\\jorge hdz\\appdata\\roaming\\python\\python310\\site-packages (from ipython->jupyter-dash) (0.2.0)\n",
            "Requirement already satisfied: idna<4,>=2.5 in c:\\users\\jorge hdz\\appdata\\local\\programs\\python\\python310\\lib\\site-packages (from requests->jupyter-dash) (3.4)\n",
            "Requirement already satisfied: urllib3<1.27,>=1.21.1 in c:\\users\\jorge hdz\\appdata\\local\\programs\\python\\python310\\lib\\site-packages (from requests->jupyter-dash) (1.26.12)\n",
            "Requirement already satisfied: charset-normalizer<3,>=2 in c:\\users\\jorge hdz\\appdata\\local\\programs\\python\\python310\\lib\\site-packages (from requests->jupyter-dash) (2.1.1)\n",
            "Requirement already satisfied: certifi>=2017.4.17 in c:\\users\\jorge hdz\\appdata\\local\\programs\\python\\python310\\lib\\site-packages (from requests->jupyter-dash) (2022.9.24)\n",
            "Requirement already satisfied: six>=1.7.0 in c:\\users\\jorge hdz\\appdata\\roaming\\python\\python310\\site-packages (from retrying->jupyter-dash) (1.16.0)\n",
            "Requirement already satisfied: parso<0.9.0,>=0.8.0 in c:\\users\\jorge hdz\\appdata\\roaming\\python\\python310\\site-packages (from jedi>=0.16->ipython->jupyter-dash) (0.8.3)\n",
            "Requirement already satisfied: MarkupSafe>=2.0 in c:\\users\\jorge hdz\\appdata\\local\\programs\\python\\python310\\lib\\site-packages (from Jinja2>=3.0->flask->jupyter-dash) (2.1.1)\n",
            "Requirement already satisfied: python-dateutil>=2.8.2 in c:\\users\\jorge hdz\\appdata\\roaming\\python\\python310\\site-packages (from jupyter-client>=6.1.12->ipykernel->jupyter-dash) (2.8.2)\n",
            "Requirement already satisfied: entrypoints in c:\\users\\jorge hdz\\appdata\\roaming\\python\\python310\\site-packages (from jupyter-client>=6.1.12->ipykernel->jupyter-dash) (0.4)\n",
            "Requirement already satisfied: jupyter-core>=4.9.2 in c:\\users\\jorge hdz\\appdata\\roaming\\python\\python310\\site-packages (from jupyter-client>=6.1.12->ipykernel->jupyter-dash) (4.11.1)\n",
            "Requirement already satisfied: tenacity>=6.2.0 in c:\\users\\jorge hdz\\appdata\\local\\programs\\python\\python310\\lib\\site-packages (from plotly>=5.0.0->dash->jupyter-dash) (8.1.0)\n",
            "Requirement already satisfied: wcwidth in c:\\users\\jorge hdz\\appdata\\roaming\\python\\python310\\site-packages (from prompt-toolkit<3.1.0,>3.0.1->ipython->jupyter-dash) (0.2.5)\n",
            "Requirement already satisfied: brotli in c:\\users\\jorge hdz\\appdata\\local\\programs\\python\\python310\\lib\\site-packages (from flask-compress->dash->jupyter-dash) (1.0.9)\n",
            "Requirement already satisfied: pyparsing!=3.0.5,>=2.0.2 in c:\\users\\jorge hdz\\appdata\\roaming\\python\\python310\\site-packages (from packaging->ipykernel->jupyter-dash) (3.0.9)\n",
            "Requirement already satisfied: pure-eval in c:\\users\\jorge hdz\\appdata\\roaming\\python\\python310\\site-packages (from stack-data->ipython->jupyter-dash) (0.2.2)\n",
            "Requirement already satisfied: executing in c:\\users\\jorge hdz\\appdata\\roaming\\python\\python310\\site-packages (from stack-data->ipython->jupyter-dash) (1.1.0)\n",
            "Requirement already satisfied: asttokens in c:\\users\\jorge hdz\\appdata\\roaming\\python\\python310\\site-packages (from stack-data->ipython->jupyter-dash) (2.0.8)\n",
            "Requirement already satisfied: pywin32>=1.0 in c:\\users\\jorge hdz\\appdata\\roaming\\python\\python310\\site-packages (from jupyter-core>=4.9.2->jupyter-client>=6.1.12->ipykernel->jupyter-dash) (304)\n",
            "Note: you may need to restart the kernel to use updated packages.\n"
          ]
        }
      ],
      "source": [
        "%pip install plotly\n",
        "\n",
        "%pip install jupyter-dash"
      ]
    },
    {
      "cell_type": "code",
      "execution_count": 3,
      "metadata": {
        "id": "2H176C78tE8u"
      },
      "outputs": [],
      "source": [
        "from jupyter_dash import JupyterDash # Versión de dash para notebooks\n",
        "from dash import dcc # Componentes HTML preconstruidos para dashboards\n",
        "from dash import html # Componentes HTML nativos\n",
        "from dash.dependencies import Input, Output # Clases Input y Output\n",
        "import plotly.express as px # Generar gráficas e importar datasets con Plotly\n",
        "\n",
        "import pandas as pd # Recolección y manipulación de datos"
      ]
    },
    {
      "cell_type": "code",
      "execution_count": 4,
      "metadata": {
        "id": "fhWrMawiwj_9"
      },
      "outputs": [],
      "source": [
        "#Selección de los datos\n",
        "df = pd.read_csv('https://media.githubusercontent.com/media/JorgeHdzRiv/Defunciones-en-Guanajuato-y-Municipios/main/data/mortalidad/conjunto_de_datos/evmor_11_valor.csv')\n",
        "\n",
        "\n",
        "\n",
        "# Filtro para datos municipio y defunciones generales\n",
        "df_mun = df[(df['cve_municipio'] != 0) & (df['cve_municipio'] != 996)]\n",
        "\n",
        "df_mun_g = df_mun[(df_mun['id_indicador'] == 1002000030)]\n",
        "\n",
        "df_mun_h = df_mun[(df_mun['id_indicador'] == 1002000031)]\n",
        "\n",
        "df_mun_m = df_mun[(df_mun['id_indicador'] == 1002000032)]"
      ]
    },
    {
      "cell_type": "code",
      "execution_count": 5,
      "metadata": {
        "colab": {
          "base_uri": "https://localhost:8080/",
          "height": 423
        },
        "id": "L0IlOGrGwlZt",
        "outputId": "46b302d7-ae5f-40c9-afe9-44be8ab7fdf6"
      },
      "outputs": [
        {
          "data": {
            "text/html": [
              "<div>\n",
              "<style scoped>\n",
              "    .dataframe tbody tr th:only-of-type {\n",
              "        vertical-align: middle;\n",
              "    }\n",
              "\n",
              "    .dataframe tbody tr th {\n",
              "        vertical-align: top;\n",
              "    }\n",
              "\n",
              "    .dataframe thead th {\n",
              "        text-align: right;\n",
              "    }\n",
              "</style>\n",
              "<table border=\"1\" class=\"dataframe\">\n",
              "  <thead>\n",
              "    <tr style=\"text-align: right;\">\n",
              "      <th></th>\n",
              "      <th>cve_entidad</th>\n",
              "      <th>desc_entidad</th>\n",
              "      <th>cve_municipio</th>\n",
              "      <th>desc_municipio</th>\n",
              "      <th>id_indicador</th>\n",
              "      <th>indicador</th>\n",
              "      <th>año</th>\n",
              "      <th>valor</th>\n",
              "      <th>unidad_medida</th>\n",
              "    </tr>\n",
              "  </thead>\n",
              "  <tbody>\n",
              "    <tr>\n",
              "      <th>304</th>\n",
              "      <td>11</td>\n",
              "      <td>Guanajuato</td>\n",
              "      <td>1</td>\n",
              "      <td>Abasolo</td>\n",
              "      <td>1002000030</td>\n",
              "      <td>Defunciones generales</td>\n",
              "      <td>1994</td>\n",
              "      <td>301.0</td>\n",
              "      <td>Defunciones</td>\n",
              "    </tr>\n",
              "    <tr>\n",
              "      <th>305</th>\n",
              "      <td>11</td>\n",
              "      <td>Guanajuato</td>\n",
              "      <td>1</td>\n",
              "      <td>Abasolo</td>\n",
              "      <td>1002000030</td>\n",
              "      <td>Defunciones generales</td>\n",
              "      <td>1995</td>\n",
              "      <td>318.0</td>\n",
              "      <td>Defunciones</td>\n",
              "    </tr>\n",
              "    <tr>\n",
              "      <th>306</th>\n",
              "      <td>11</td>\n",
              "      <td>Guanajuato</td>\n",
              "      <td>1</td>\n",
              "      <td>Abasolo</td>\n",
              "      <td>1002000030</td>\n",
              "      <td>Defunciones generales</td>\n",
              "      <td>1996</td>\n",
              "      <td>350.0</td>\n",
              "      <td>Defunciones</td>\n",
              "    </tr>\n",
              "    <tr>\n",
              "      <th>307</th>\n",
              "      <td>11</td>\n",
              "      <td>Guanajuato</td>\n",
              "      <td>1</td>\n",
              "      <td>Abasolo</td>\n",
              "      <td>1002000030</td>\n",
              "      <td>Defunciones generales</td>\n",
              "      <td>1997</td>\n",
              "      <td>347.0</td>\n",
              "      <td>Defunciones</td>\n",
              "    </tr>\n",
              "    <tr>\n",
              "      <th>308</th>\n",
              "      <td>11</td>\n",
              "      <td>Guanajuato</td>\n",
              "      <td>1</td>\n",
              "      <td>Abasolo</td>\n",
              "      <td>1002000030</td>\n",
              "      <td>Defunciones generales</td>\n",
              "      <td>1998</td>\n",
              "      <td>350.0</td>\n",
              "      <td>Defunciones</td>\n",
              "    </tr>\n",
              "    <tr>\n",
              "      <th>...</th>\n",
              "      <td>...</td>\n",
              "      <td>...</td>\n",
              "      <td>...</td>\n",
              "      <td>...</td>\n",
              "      <td>...</td>\n",
              "      <td>...</td>\n",
              "      <td>...</td>\n",
              "      <td>...</td>\n",
              "      <td>...</td>\n",
              "    </tr>\n",
              "    <tr>\n",
              "      <th>10227</th>\n",
              "      <td>11</td>\n",
              "      <td>Guanajuato</td>\n",
              "      <td>46</td>\n",
              "      <td>Yuriria</td>\n",
              "      <td>1002000030</td>\n",
              "      <td>Defunciones generales</td>\n",
              "      <td>2017</td>\n",
              "      <td>589.0</td>\n",
              "      <td>Defunciones</td>\n",
              "    </tr>\n",
              "    <tr>\n",
              "      <th>10228</th>\n",
              "      <td>11</td>\n",
              "      <td>Guanajuato</td>\n",
              "      <td>46</td>\n",
              "      <td>Yuriria</td>\n",
              "      <td>1002000030</td>\n",
              "      <td>Defunciones generales</td>\n",
              "      <td>2018</td>\n",
              "      <td>611.0</td>\n",
              "      <td>Defunciones</td>\n",
              "    </tr>\n",
              "    <tr>\n",
              "      <th>10229</th>\n",
              "      <td>11</td>\n",
              "      <td>Guanajuato</td>\n",
              "      <td>46</td>\n",
              "      <td>Yuriria</td>\n",
              "      <td>1002000030</td>\n",
              "      <td>Defunciones generales</td>\n",
              "      <td>2019</td>\n",
              "      <td>599.0</td>\n",
              "      <td>Defunciones</td>\n",
              "    </tr>\n",
              "    <tr>\n",
              "      <th>10230</th>\n",
              "      <td>11</td>\n",
              "      <td>Guanajuato</td>\n",
              "      <td>46</td>\n",
              "      <td>Yuriria</td>\n",
              "      <td>1002000030</td>\n",
              "      <td>Defunciones generales</td>\n",
              "      <td>2020</td>\n",
              "      <td>740.0</td>\n",
              "      <td>Defunciones</td>\n",
              "    </tr>\n",
              "    <tr>\n",
              "      <th>10231</th>\n",
              "      <td>11</td>\n",
              "      <td>Guanajuato</td>\n",
              "      <td>46</td>\n",
              "      <td>Yuriria</td>\n",
              "      <td>1002000030</td>\n",
              "      <td>Defunciones generales</td>\n",
              "      <td>2021</td>\n",
              "      <td>892.0</td>\n",
              "      <td>Defunciones</td>\n",
              "    </tr>\n",
              "  </tbody>\n",
              "</table>\n",
              "<p>1288 rows × 9 columns</p>\n",
              "</div>"
            ],
            "text/plain": [
              "       cve_entidad desc_entidad  cve_municipio desc_municipio  id_indicador  \\\n",
              "304             11   Guanajuato              1        Abasolo    1002000030   \n",
              "305             11   Guanajuato              1        Abasolo    1002000030   \n",
              "306             11   Guanajuato              1        Abasolo    1002000030   \n",
              "307             11   Guanajuato              1        Abasolo    1002000030   \n",
              "308             11   Guanajuato              1        Abasolo    1002000030   \n",
              "...            ...          ...            ...            ...           ...   \n",
              "10227           11   Guanajuato             46        Yuriria    1002000030   \n",
              "10228           11   Guanajuato             46        Yuriria    1002000030   \n",
              "10229           11   Guanajuato             46        Yuriria    1002000030   \n",
              "10230           11   Guanajuato             46        Yuriria    1002000030   \n",
              "10231           11   Guanajuato             46        Yuriria    1002000030   \n",
              "\n",
              "                   indicador   año  valor unidad_medida  \n",
              "304    Defunciones generales  1994  301.0   Defunciones  \n",
              "305    Defunciones generales  1995  318.0   Defunciones  \n",
              "306    Defunciones generales  1996  350.0   Defunciones  \n",
              "307    Defunciones generales  1997  347.0   Defunciones  \n",
              "308    Defunciones generales  1998  350.0   Defunciones  \n",
              "...                      ...   ...    ...           ...  \n",
              "10227  Defunciones generales  2017  589.0   Defunciones  \n",
              "10228  Defunciones generales  2018  611.0   Defunciones  \n",
              "10229  Defunciones generales  2019  599.0   Defunciones  \n",
              "10230  Defunciones generales  2020  740.0   Defunciones  \n",
              "10231  Defunciones generales  2021  892.0   Defunciones  \n",
              "\n",
              "[1288 rows x 9 columns]"
            ]
          },
          "execution_count": 5,
          "metadata": {},
          "output_type": "execute_result"
        }
      ],
      "source": [
        "df_mun_g"
      ]
    },
    {
      "cell_type": "code",
      "execution_count": 6,
      "metadata": {},
      "outputs": [
        {
          "name": "stdout",
          "output_type": "stream",
          "text": [
            "Requirement already satisfied: nbformat in c:\\users\\jorge hdz\\appdata\\local\\programs\\python\\python310\\lib\\site-packages (5.7.0)\n",
            "Requirement already satisfied: traitlets>=5.1 in c:\\users\\jorge hdz\\appdata\\roaming\\python\\python310\\site-packages (from nbformat) (5.4.0)\n",
            "Requirement already satisfied: jsonschema>=2.6 in c:\\users\\jorge hdz\\appdata\\local\\programs\\python\\python310\\lib\\site-packages (from nbformat) (4.16.0)\n",
            "Requirement already satisfied: jupyter-core in c:\\users\\jorge hdz\\appdata\\roaming\\python\\python310\\site-packages (from nbformat) (4.11.1)\n",
            "Requirement already satisfied: fastjsonschema in c:\\users\\jorge hdz\\appdata\\local\\programs\\python\\python310\\lib\\site-packages (from nbformat) (2.16.2)\n",
            "Requirement already satisfied: pyrsistent!=0.17.0,!=0.17.1,!=0.17.2,>=0.14.0 in c:\\users\\jorge hdz\\appdata\\local\\programs\\python\\python310\\lib\\site-packages (from jsonschema>=2.6->nbformat) (0.18.1)\n",
            "Requirement already satisfied: attrs>=17.4.0 in c:\\users\\jorge hdz\\appdata\\local\\programs\\python\\python310\\lib\\site-packages (from jsonschema>=2.6->nbformat) (22.1.0)\n",
            "Requirement already satisfied: pywin32>=1.0 in c:\\users\\jorge hdz\\appdata\\roaming\\python\\python310\\site-packages (from jupyter-core->nbformat) (304)\n",
            "Note: you may need to restart the kernel to use updated packages.\n"
          ]
        }
      ],
      "source": [
        "# Antes de ejecutar el grafico, linea solo para VSCode\n",
        "%pip install --upgrade nbformat"
      ]
    },
    {
      "cell_type": "code",
      "execution_count": 7,
      "metadata": {
        "colab": {
          "base_uri": "https://localhost:8080/",
          "height": 690
        },
        "id": "EcGyhXWSC9xm",
        "outputId": "10685375-ce17-433d-be5a-5d76b2d9a492"
      },
      "outputs": [
        {
          "data": {
            "application/vnd.plotly.v1+json": {
              "config": {
                "plotlyServerURL": "https://plot.ly"
              },
              "data": [
                {
                  "domain": {
                    "x": [
                      0,
                      1
                    ],
                    "y": [
                      0,
                      1
                    ]
                  },
                  "hovertemplate": "desc_municipio=%{label}<br>valor=%{value}<extra></extra>",
                  "labels": [
                    "Abasolo",
                    "Acámbaro",
                    "San Miguel de Allende",
                    "Apaseo el Alto",
                    "Apaseo el Grande",
                    "Otros",
                    "Celaya",
                    "Manuel Doblado",
                    "Comonfort",
                    "Otros",
                    "Cortazar",
                    "Cuerámaro",
                    "Otros",
                    "Dolores Hidalgo Cuna de la Independencia Nacional",
                    "Guanajuato",
                    "Otros",
                    "Irapuato",
                    "Jaral del Progreso",
                    "Jerécuaro",
                    "León",
                    "Moroleón",
                    "Ocampo",
                    "Pénjamo",
                    "Otros",
                    "Purísima del Rincón",
                    "Romita",
                    "Salamanca",
                    "Salvatierra",
                    "San Diego de la Unión",
                    "San Felipe",
                    "San Francisco del Rincón",
                    "San José Iturbide",
                    "San Luis de la Paz",
                    "Otros",
                    "Santa Cruz de Juventino Rosas",
                    "Otros",
                    "Silao de la Victoria",
                    "Otros",
                    "Tarimoro",
                    "Otros",
                    "Uriangato",
                    "Valle de Santiago",
                    "Victoria",
                    "Villagrán",
                    "Otros",
                    "Yuriria"
                  ],
                  "legendgroup": "",
                  "name": "",
                  "showlegend": true,
                  "type": "pie",
                  "values": [
                    390,
                    725,
                    714,
                    313,
                    315,
                    25,
                    1983,
                    223,
                    324,
                    78,
                    458,
                    139,
                    93,
                    647,
                    704,
                    94,
                    2160,
                    192,
                    282,
                    5381,
                    250,
                    131,
                    757,
                    79,
                    207,
                    245,
                    1098,
                    611,
                    149,
                    490,
                    502,
                    272,
                    491,
                    25,
                    344,
                    63,
                    643,
                    85,
                    206,
                    93,
                    281,
                    671,
                    114,
                    202,
                    47,
                    367
                  ]
                }
              ],
              "layout": {
                "legend": {
                  "tracegroupgap": 0
                },
                "template": {
                  "data": {
                    "bar": [
                      {
                        "error_x": {
                          "color": "#2a3f5f"
                        },
                        "error_y": {
                          "color": "#2a3f5f"
                        },
                        "marker": {
                          "line": {
                            "color": "#E5ECF6",
                            "width": 0.5
                          },
                          "pattern": {
                            "fillmode": "overlay",
                            "size": 10,
                            "solidity": 0.2
                          }
                        },
                        "type": "bar"
                      }
                    ],
                    "barpolar": [
                      {
                        "marker": {
                          "line": {
                            "color": "#E5ECF6",
                            "width": 0.5
                          },
                          "pattern": {
                            "fillmode": "overlay",
                            "size": 10,
                            "solidity": 0.2
                          }
                        },
                        "type": "barpolar"
                      }
                    ],
                    "carpet": [
                      {
                        "aaxis": {
                          "endlinecolor": "#2a3f5f",
                          "gridcolor": "white",
                          "linecolor": "white",
                          "minorgridcolor": "white",
                          "startlinecolor": "#2a3f5f"
                        },
                        "baxis": {
                          "endlinecolor": "#2a3f5f",
                          "gridcolor": "white",
                          "linecolor": "white",
                          "minorgridcolor": "white",
                          "startlinecolor": "#2a3f5f"
                        },
                        "type": "carpet"
                      }
                    ],
                    "choropleth": [
                      {
                        "colorbar": {
                          "outlinewidth": 0,
                          "ticks": ""
                        },
                        "type": "choropleth"
                      }
                    ],
                    "contour": [
                      {
                        "colorbar": {
                          "outlinewidth": 0,
                          "ticks": ""
                        },
                        "colorscale": [
                          [
                            0,
                            "#0d0887"
                          ],
                          [
                            0.1111111111111111,
                            "#46039f"
                          ],
                          [
                            0.2222222222222222,
                            "#7201a8"
                          ],
                          [
                            0.3333333333333333,
                            "#9c179e"
                          ],
                          [
                            0.4444444444444444,
                            "#bd3786"
                          ],
                          [
                            0.5555555555555556,
                            "#d8576b"
                          ],
                          [
                            0.6666666666666666,
                            "#ed7953"
                          ],
                          [
                            0.7777777777777778,
                            "#fb9f3a"
                          ],
                          [
                            0.8888888888888888,
                            "#fdca26"
                          ],
                          [
                            1,
                            "#f0f921"
                          ]
                        ],
                        "type": "contour"
                      }
                    ],
                    "contourcarpet": [
                      {
                        "colorbar": {
                          "outlinewidth": 0,
                          "ticks": ""
                        },
                        "type": "contourcarpet"
                      }
                    ],
                    "heatmap": [
                      {
                        "colorbar": {
                          "outlinewidth": 0,
                          "ticks": ""
                        },
                        "colorscale": [
                          [
                            0,
                            "#0d0887"
                          ],
                          [
                            0.1111111111111111,
                            "#46039f"
                          ],
                          [
                            0.2222222222222222,
                            "#7201a8"
                          ],
                          [
                            0.3333333333333333,
                            "#9c179e"
                          ],
                          [
                            0.4444444444444444,
                            "#bd3786"
                          ],
                          [
                            0.5555555555555556,
                            "#d8576b"
                          ],
                          [
                            0.6666666666666666,
                            "#ed7953"
                          ],
                          [
                            0.7777777777777778,
                            "#fb9f3a"
                          ],
                          [
                            0.8888888888888888,
                            "#fdca26"
                          ],
                          [
                            1,
                            "#f0f921"
                          ]
                        ],
                        "type": "heatmap"
                      }
                    ],
                    "heatmapgl": [
                      {
                        "colorbar": {
                          "outlinewidth": 0,
                          "ticks": ""
                        },
                        "colorscale": [
                          [
                            0,
                            "#0d0887"
                          ],
                          [
                            0.1111111111111111,
                            "#46039f"
                          ],
                          [
                            0.2222222222222222,
                            "#7201a8"
                          ],
                          [
                            0.3333333333333333,
                            "#9c179e"
                          ],
                          [
                            0.4444444444444444,
                            "#bd3786"
                          ],
                          [
                            0.5555555555555556,
                            "#d8576b"
                          ],
                          [
                            0.6666666666666666,
                            "#ed7953"
                          ],
                          [
                            0.7777777777777778,
                            "#fb9f3a"
                          ],
                          [
                            0.8888888888888888,
                            "#fdca26"
                          ],
                          [
                            1,
                            "#f0f921"
                          ]
                        ],
                        "type": "heatmapgl"
                      }
                    ],
                    "histogram": [
                      {
                        "marker": {
                          "pattern": {
                            "fillmode": "overlay",
                            "size": 10,
                            "solidity": 0.2
                          }
                        },
                        "type": "histogram"
                      }
                    ],
                    "histogram2d": [
                      {
                        "colorbar": {
                          "outlinewidth": 0,
                          "ticks": ""
                        },
                        "colorscale": [
                          [
                            0,
                            "#0d0887"
                          ],
                          [
                            0.1111111111111111,
                            "#46039f"
                          ],
                          [
                            0.2222222222222222,
                            "#7201a8"
                          ],
                          [
                            0.3333333333333333,
                            "#9c179e"
                          ],
                          [
                            0.4444444444444444,
                            "#bd3786"
                          ],
                          [
                            0.5555555555555556,
                            "#d8576b"
                          ],
                          [
                            0.6666666666666666,
                            "#ed7953"
                          ],
                          [
                            0.7777777777777778,
                            "#fb9f3a"
                          ],
                          [
                            0.8888888888888888,
                            "#fdca26"
                          ],
                          [
                            1,
                            "#f0f921"
                          ]
                        ],
                        "type": "histogram2d"
                      }
                    ],
                    "histogram2dcontour": [
                      {
                        "colorbar": {
                          "outlinewidth": 0,
                          "ticks": ""
                        },
                        "colorscale": [
                          [
                            0,
                            "#0d0887"
                          ],
                          [
                            0.1111111111111111,
                            "#46039f"
                          ],
                          [
                            0.2222222222222222,
                            "#7201a8"
                          ],
                          [
                            0.3333333333333333,
                            "#9c179e"
                          ],
                          [
                            0.4444444444444444,
                            "#bd3786"
                          ],
                          [
                            0.5555555555555556,
                            "#d8576b"
                          ],
                          [
                            0.6666666666666666,
                            "#ed7953"
                          ],
                          [
                            0.7777777777777778,
                            "#fb9f3a"
                          ],
                          [
                            0.8888888888888888,
                            "#fdca26"
                          ],
                          [
                            1,
                            "#f0f921"
                          ]
                        ],
                        "type": "histogram2dcontour"
                      }
                    ],
                    "mesh3d": [
                      {
                        "colorbar": {
                          "outlinewidth": 0,
                          "ticks": ""
                        },
                        "type": "mesh3d"
                      }
                    ],
                    "parcoords": [
                      {
                        "line": {
                          "colorbar": {
                            "outlinewidth": 0,
                            "ticks": ""
                          }
                        },
                        "type": "parcoords"
                      }
                    ],
                    "pie": [
                      {
                        "automargin": true,
                        "type": "pie"
                      }
                    ],
                    "scatter": [
                      {
                        "fillpattern": {
                          "fillmode": "overlay",
                          "size": 10,
                          "solidity": 0.2
                        },
                        "type": "scatter"
                      }
                    ],
                    "scatter3d": [
                      {
                        "line": {
                          "colorbar": {
                            "outlinewidth": 0,
                            "ticks": ""
                          }
                        },
                        "marker": {
                          "colorbar": {
                            "outlinewidth": 0,
                            "ticks": ""
                          }
                        },
                        "type": "scatter3d"
                      }
                    ],
                    "scattercarpet": [
                      {
                        "marker": {
                          "colorbar": {
                            "outlinewidth": 0,
                            "ticks": ""
                          }
                        },
                        "type": "scattercarpet"
                      }
                    ],
                    "scattergeo": [
                      {
                        "marker": {
                          "colorbar": {
                            "outlinewidth": 0,
                            "ticks": ""
                          }
                        },
                        "type": "scattergeo"
                      }
                    ],
                    "scattergl": [
                      {
                        "marker": {
                          "colorbar": {
                            "outlinewidth": 0,
                            "ticks": ""
                          }
                        },
                        "type": "scattergl"
                      }
                    ],
                    "scattermapbox": [
                      {
                        "marker": {
                          "colorbar": {
                            "outlinewidth": 0,
                            "ticks": ""
                          }
                        },
                        "type": "scattermapbox"
                      }
                    ],
                    "scatterpolar": [
                      {
                        "marker": {
                          "colorbar": {
                            "outlinewidth": 0,
                            "ticks": ""
                          }
                        },
                        "type": "scatterpolar"
                      }
                    ],
                    "scatterpolargl": [
                      {
                        "marker": {
                          "colorbar": {
                            "outlinewidth": 0,
                            "ticks": ""
                          }
                        },
                        "type": "scatterpolargl"
                      }
                    ],
                    "scatterternary": [
                      {
                        "marker": {
                          "colorbar": {
                            "outlinewidth": 0,
                            "ticks": ""
                          }
                        },
                        "type": "scatterternary"
                      }
                    ],
                    "surface": [
                      {
                        "colorbar": {
                          "outlinewidth": 0,
                          "ticks": ""
                        },
                        "colorscale": [
                          [
                            0,
                            "#0d0887"
                          ],
                          [
                            0.1111111111111111,
                            "#46039f"
                          ],
                          [
                            0.2222222222222222,
                            "#7201a8"
                          ],
                          [
                            0.3333333333333333,
                            "#9c179e"
                          ],
                          [
                            0.4444444444444444,
                            "#bd3786"
                          ],
                          [
                            0.5555555555555556,
                            "#d8576b"
                          ],
                          [
                            0.6666666666666666,
                            "#ed7953"
                          ],
                          [
                            0.7777777777777778,
                            "#fb9f3a"
                          ],
                          [
                            0.8888888888888888,
                            "#fdca26"
                          ],
                          [
                            1,
                            "#f0f921"
                          ]
                        ],
                        "type": "surface"
                      }
                    ],
                    "table": [
                      {
                        "cells": {
                          "fill": {
                            "color": "#EBF0F8"
                          },
                          "line": {
                            "color": "white"
                          }
                        },
                        "header": {
                          "fill": {
                            "color": "#C8D4E3"
                          },
                          "line": {
                            "color": "white"
                          }
                        },
                        "type": "table"
                      }
                    ]
                  },
                  "layout": {
                    "annotationdefaults": {
                      "arrowcolor": "#2a3f5f",
                      "arrowhead": 0,
                      "arrowwidth": 1
                    },
                    "autotypenumbers": "strict",
                    "coloraxis": {
                      "colorbar": {
                        "outlinewidth": 0,
                        "ticks": ""
                      }
                    },
                    "colorscale": {
                      "diverging": [
                        [
                          0,
                          "#8e0152"
                        ],
                        [
                          0.1,
                          "#c51b7d"
                        ],
                        [
                          0.2,
                          "#de77ae"
                        ],
                        [
                          0.3,
                          "#f1b6da"
                        ],
                        [
                          0.4,
                          "#fde0ef"
                        ],
                        [
                          0.5,
                          "#f7f7f7"
                        ],
                        [
                          0.6,
                          "#e6f5d0"
                        ],
                        [
                          0.7,
                          "#b8e186"
                        ],
                        [
                          0.8,
                          "#7fbc41"
                        ],
                        [
                          0.9,
                          "#4d9221"
                        ],
                        [
                          1,
                          "#276419"
                        ]
                      ],
                      "sequential": [
                        [
                          0,
                          "#0d0887"
                        ],
                        [
                          0.1111111111111111,
                          "#46039f"
                        ],
                        [
                          0.2222222222222222,
                          "#7201a8"
                        ],
                        [
                          0.3333333333333333,
                          "#9c179e"
                        ],
                        [
                          0.4444444444444444,
                          "#bd3786"
                        ],
                        [
                          0.5555555555555556,
                          "#d8576b"
                        ],
                        [
                          0.6666666666666666,
                          "#ed7953"
                        ],
                        [
                          0.7777777777777778,
                          "#fb9f3a"
                        ],
                        [
                          0.8888888888888888,
                          "#fdca26"
                        ],
                        [
                          1,
                          "#f0f921"
                        ]
                      ],
                      "sequentialminus": [
                        [
                          0,
                          "#0d0887"
                        ],
                        [
                          0.1111111111111111,
                          "#46039f"
                        ],
                        [
                          0.2222222222222222,
                          "#7201a8"
                        ],
                        [
                          0.3333333333333333,
                          "#9c179e"
                        ],
                        [
                          0.4444444444444444,
                          "#bd3786"
                        ],
                        [
                          0.5555555555555556,
                          "#d8576b"
                        ],
                        [
                          0.6666666666666666,
                          "#ed7953"
                        ],
                        [
                          0.7777777777777778,
                          "#fb9f3a"
                        ],
                        [
                          0.8888888888888888,
                          "#fdca26"
                        ],
                        [
                          1,
                          "#f0f921"
                        ]
                      ]
                    },
                    "colorway": [
                      "#636efa",
                      "#EF553B",
                      "#00cc96",
                      "#ab63fa",
                      "#FFA15A",
                      "#19d3f3",
                      "#FF6692",
                      "#B6E880",
                      "#FF97FF",
                      "#FECB52"
                    ],
                    "font": {
                      "color": "#2a3f5f"
                    },
                    "geo": {
                      "bgcolor": "white",
                      "lakecolor": "white",
                      "landcolor": "#E5ECF6",
                      "showlakes": true,
                      "showland": true,
                      "subunitcolor": "white"
                    },
                    "hoverlabel": {
                      "align": "left"
                    },
                    "hovermode": "closest",
                    "mapbox": {
                      "style": "light"
                    },
                    "paper_bgcolor": "white",
                    "plot_bgcolor": "#E5ECF6",
                    "polar": {
                      "angularaxis": {
                        "gridcolor": "white",
                        "linecolor": "white",
                        "ticks": ""
                      },
                      "bgcolor": "#E5ECF6",
                      "radialaxis": {
                        "gridcolor": "white",
                        "linecolor": "white",
                        "ticks": ""
                      }
                    },
                    "scene": {
                      "xaxis": {
                        "backgroundcolor": "#E5ECF6",
                        "gridcolor": "white",
                        "gridwidth": 2,
                        "linecolor": "white",
                        "showbackground": true,
                        "ticks": "",
                        "zerolinecolor": "white"
                      },
                      "yaxis": {
                        "backgroundcolor": "#E5ECF6",
                        "gridcolor": "white",
                        "gridwidth": 2,
                        "linecolor": "white",
                        "showbackground": true,
                        "ticks": "",
                        "zerolinecolor": "white"
                      },
                      "zaxis": {
                        "backgroundcolor": "#E5ECF6",
                        "gridcolor": "white",
                        "gridwidth": 2,
                        "linecolor": "white",
                        "showbackground": true,
                        "ticks": "",
                        "zerolinecolor": "white"
                      }
                    },
                    "shapedefaults": {
                      "line": {
                        "color": "#2a3f5f"
                      }
                    },
                    "ternary": {
                      "aaxis": {
                        "gridcolor": "white",
                        "linecolor": "white",
                        "ticks": ""
                      },
                      "baxis": {
                        "gridcolor": "white",
                        "linecolor": "white",
                        "ticks": ""
                      },
                      "bgcolor": "#E5ECF6",
                      "caxis": {
                        "gridcolor": "white",
                        "linecolor": "white",
                        "ticks": ""
                      }
                    },
                    "title": {
                      "x": 0.05
                    },
                    "xaxis": {
                      "automargin": true,
                      "gridcolor": "white",
                      "linecolor": "white",
                      "ticks": "",
                      "title": {
                        "standoff": 15
                      },
                      "zerolinecolor": "white",
                      "zerolinewidth": 2
                    },
                    "yaxis": {
                      "automargin": true,
                      "gridcolor": "white",
                      "linecolor": "white",
                      "ticks": "",
                      "title": {
                        "standoff": 15
                      },
                      "zerolinecolor": "white",
                      "zerolinewidth": 2
                    }
                  }
                },
                "title": {
                  "text": "Defunciones en el estado de guanajuato"
                }
              }
            }
          },
          "metadata": {},
          "output_type": "display_data"
        }
      ],
      "source": [
        "#Grafico circular\n",
        "df_mun_g_1 = df_mun_g.query(\"año == 2007\")\n",
        "df_mun_g_1.loc[df_mun_g_1['valor'] < 100, 'desc_municipio'] = 'Otros' # Represent only large countries\n",
        "fig = px.pie(df_mun_g_1, values='valor', names='desc_municipio', title='Defunciones en el estado de guanajuato')\n",
        "fig.show()"
      ]
    },
    {
      "cell_type": "code",
      "execution_count": 8,
      "metadata": {
        "colab": {
          "base_uri": "https://localhost:8080/",
          "height": 542
        },
        "id": "tv21ToN23VhT",
        "outputId": "51904bd6-db20-493b-b83c-42492773e377"
      },
      "outputs": [
        {
          "data": {
            "application/vnd.plotly.v1+json": {
              "config": {
                "plotlyServerURL": "https://plot.ly"
              },
              "data": [
                {
                  "hovertemplate": "cve_municipio=%{x}<br>valor=%{y}<extra></extra>",
                  "legendgroup": "",
                  "marker": {
                    "color": "#636efa",
                    "symbol": "circle"
                  },
                  "mode": "markers",
                  "name": "",
                  "showlegend": false,
                  "type": "scattergl",
                  "x": [
                    1,
                    1,
                    1,
                    1,
                    1,
                    1,
                    1,
                    1,
                    1,
                    1,
                    1,
                    1,
                    1,
                    1,
                    1,
                    1,
                    1,
                    1,
                    1,
                    1,
                    1,
                    1,
                    1,
                    1,
                    1,
                    1,
                    1,
                    1,
                    2,
                    2,
                    2,
                    2,
                    2,
                    2,
                    2,
                    2,
                    2,
                    2,
                    2,
                    2,
                    2,
                    2,
                    2,
                    2,
                    2,
                    2,
                    2,
                    2,
                    2,
                    2,
                    2,
                    2,
                    2,
                    2,
                    2,
                    2,
                    3,
                    3,
                    3,
                    3,
                    3,
                    3,
                    3,
                    3,
                    3,
                    3,
                    3,
                    3,
                    3,
                    3,
                    3,
                    3,
                    3,
                    3,
                    3,
                    3,
                    3,
                    3,
                    3,
                    3,
                    3,
                    3,
                    3,
                    3,
                    4,
                    4,
                    4,
                    4,
                    4,
                    4,
                    4,
                    4,
                    4,
                    4,
                    4,
                    4,
                    4,
                    4,
                    4,
                    4,
                    4,
                    4,
                    4,
                    4,
                    4,
                    4,
                    4,
                    4,
                    4,
                    4,
                    4,
                    4,
                    5,
                    5,
                    5,
                    5,
                    5,
                    5,
                    5,
                    5,
                    5,
                    5,
                    5,
                    5,
                    5,
                    5,
                    5,
                    5,
                    5,
                    5,
                    5,
                    5,
                    5,
                    5,
                    5,
                    5,
                    5,
                    5,
                    5,
                    5,
                    6,
                    6,
                    6,
                    6,
                    6,
                    6,
                    6,
                    6,
                    6,
                    6,
                    6,
                    6,
                    6,
                    6,
                    6,
                    6,
                    6,
                    6,
                    6,
                    6,
                    6,
                    6,
                    6,
                    6,
                    6,
                    6,
                    6,
                    6,
                    7,
                    7,
                    7,
                    7,
                    7,
                    7,
                    7,
                    7,
                    7,
                    7,
                    7,
                    7,
                    7,
                    7,
                    7,
                    7,
                    7,
                    7,
                    7,
                    7,
                    7,
                    7,
                    7,
                    7,
                    7,
                    7,
                    7,
                    7,
                    8,
                    8,
                    8,
                    8,
                    8,
                    8,
                    8,
                    8,
                    8,
                    8,
                    8,
                    8,
                    8,
                    8,
                    8,
                    8,
                    8,
                    8,
                    8,
                    8,
                    8,
                    8,
                    8,
                    8,
                    8,
                    8,
                    8,
                    8,
                    9,
                    9,
                    9,
                    9,
                    9,
                    9,
                    9,
                    9,
                    9,
                    9,
                    9,
                    9,
                    9,
                    9,
                    9,
                    9,
                    9,
                    9,
                    9,
                    9,
                    9,
                    9,
                    9,
                    9,
                    9,
                    9,
                    9,
                    9,
                    10,
                    10,
                    10,
                    10,
                    10,
                    10,
                    10,
                    10,
                    10,
                    10,
                    10,
                    10,
                    10,
                    10,
                    10,
                    10,
                    10,
                    10,
                    10,
                    10,
                    10,
                    10,
                    10,
                    10,
                    10,
                    10,
                    10,
                    10,
                    11,
                    11,
                    11,
                    11,
                    11,
                    11,
                    11,
                    11,
                    11,
                    11,
                    11,
                    11,
                    11,
                    11,
                    11,
                    11,
                    11,
                    11,
                    11,
                    11,
                    11,
                    11,
                    11,
                    11,
                    11,
                    11,
                    11,
                    11,
                    12,
                    12,
                    12,
                    12,
                    12,
                    12,
                    12,
                    12,
                    12,
                    12,
                    12,
                    12,
                    12,
                    12,
                    12,
                    12,
                    12,
                    12,
                    12,
                    12,
                    12,
                    12,
                    12,
                    12,
                    12,
                    12,
                    12,
                    12,
                    13,
                    13,
                    13,
                    13,
                    13,
                    13,
                    13,
                    13,
                    13,
                    13,
                    13,
                    13,
                    13,
                    13,
                    13,
                    13,
                    13,
                    13,
                    13,
                    13,
                    13,
                    13,
                    13,
                    13,
                    13,
                    13,
                    13,
                    13,
                    14,
                    14,
                    14,
                    14,
                    14,
                    14,
                    14,
                    14,
                    14,
                    14,
                    14,
                    14,
                    14,
                    14,
                    14,
                    14,
                    14,
                    14,
                    14,
                    14,
                    14,
                    14,
                    14,
                    14,
                    14,
                    14,
                    14,
                    14,
                    15,
                    15,
                    15,
                    15,
                    15,
                    15,
                    15,
                    15,
                    15,
                    15,
                    15,
                    15,
                    15,
                    15,
                    15,
                    15,
                    15,
                    15,
                    15,
                    15,
                    15,
                    15,
                    15,
                    15,
                    15,
                    15,
                    15,
                    15,
                    16,
                    16,
                    16,
                    16,
                    16,
                    16,
                    16,
                    16,
                    16,
                    16,
                    16,
                    16,
                    16,
                    16,
                    16,
                    16,
                    16,
                    16,
                    16,
                    16,
                    16,
                    16,
                    16,
                    16,
                    16,
                    16,
                    16,
                    16,
                    17,
                    17,
                    17,
                    17,
                    17,
                    17,
                    17,
                    17,
                    17,
                    17,
                    17,
                    17,
                    17,
                    17,
                    17,
                    17,
                    17,
                    17,
                    17,
                    17,
                    17,
                    17,
                    17,
                    17,
                    17,
                    17,
                    17,
                    17,
                    18,
                    18,
                    18,
                    18,
                    18,
                    18,
                    18,
                    18,
                    18,
                    18,
                    18,
                    18,
                    18,
                    18,
                    18,
                    18,
                    18,
                    18,
                    18,
                    18,
                    18,
                    18,
                    18,
                    18,
                    18,
                    18,
                    18,
                    18,
                    19,
                    19,
                    19,
                    19,
                    19,
                    19,
                    19,
                    19,
                    19,
                    19,
                    19,
                    19,
                    19,
                    19,
                    19,
                    19,
                    19,
                    19,
                    19,
                    19,
                    19,
                    19,
                    19,
                    19,
                    19,
                    19,
                    19,
                    19,
                    20,
                    20,
                    20,
                    20,
                    20,
                    20,
                    20,
                    20,
                    20,
                    20,
                    20,
                    20,
                    20,
                    20,
                    20,
                    20,
                    20,
                    20,
                    20,
                    20,
                    20,
                    20,
                    20,
                    20,
                    20,
                    20,
                    20,
                    20,
                    21,
                    21,
                    21,
                    21,
                    21,
                    21,
                    21,
                    21,
                    21,
                    21,
                    21,
                    21,
                    21,
                    21,
                    21,
                    21,
                    21,
                    21,
                    21,
                    21,
                    21,
                    21,
                    21,
                    21,
                    21,
                    21,
                    21,
                    21,
                    22,
                    22,
                    22,
                    22,
                    22,
                    22,
                    22,
                    22,
                    22,
                    22,
                    22,
                    22,
                    22,
                    22,
                    22,
                    22,
                    22,
                    22,
                    22,
                    22,
                    22,
                    22,
                    22,
                    22,
                    22,
                    22,
                    22,
                    22,
                    23,
                    23,
                    23,
                    23,
                    23,
                    23,
                    23,
                    23,
                    23,
                    23,
                    23,
                    23,
                    23,
                    23,
                    23,
                    23,
                    23,
                    23,
                    23,
                    23,
                    23,
                    23,
                    23,
                    23,
                    23,
                    23,
                    23,
                    23,
                    24,
                    24,
                    24,
                    24,
                    24,
                    24,
                    24,
                    24,
                    24,
                    24,
                    24,
                    24,
                    24,
                    24,
                    24,
                    24,
                    24,
                    24,
                    24,
                    24,
                    24,
                    24,
                    24,
                    24,
                    24,
                    24,
                    24,
                    24,
                    25,
                    25,
                    25,
                    25,
                    25,
                    25,
                    25,
                    25,
                    25,
                    25,
                    25,
                    25,
                    25,
                    25,
                    25,
                    25,
                    25,
                    25,
                    25,
                    25,
                    25,
                    25,
                    25,
                    25,
                    25,
                    25,
                    25,
                    25,
                    26,
                    26,
                    26,
                    26,
                    26,
                    26,
                    26,
                    26,
                    26,
                    26,
                    26,
                    26,
                    26,
                    26,
                    26,
                    26,
                    26,
                    26,
                    26,
                    26,
                    26,
                    26,
                    26,
                    26,
                    26,
                    26,
                    26,
                    26,
                    27,
                    27,
                    27,
                    27,
                    27,
                    27,
                    27,
                    27,
                    27,
                    27,
                    27,
                    27,
                    27,
                    27,
                    27,
                    27,
                    27,
                    27,
                    27,
                    27,
                    27,
                    27,
                    27,
                    27,
                    27,
                    27,
                    27,
                    27,
                    28,
                    28,
                    28,
                    28,
                    28,
                    28,
                    28,
                    28,
                    28,
                    28,
                    28,
                    28,
                    28,
                    28,
                    28,
                    28,
                    28,
                    28,
                    28,
                    28,
                    28,
                    28,
                    28,
                    28,
                    28,
                    28,
                    28,
                    28,
                    29,
                    29,
                    29,
                    29,
                    29,
                    29,
                    29,
                    29,
                    29,
                    29,
                    29,
                    29,
                    29,
                    29,
                    29,
                    29,
                    29,
                    29,
                    29,
                    29,
                    29,
                    29,
                    29,
                    29,
                    29,
                    29,
                    29,
                    29,
                    30,
                    30,
                    30,
                    30,
                    30,
                    30,
                    30,
                    30,
                    30,
                    30,
                    30,
                    30,
                    30,
                    30,
                    30,
                    30,
                    30,
                    30,
                    30,
                    30,
                    30,
                    30,
                    30,
                    30,
                    30,
                    30,
                    30,
                    30,
                    31,
                    31,
                    31,
                    31,
                    31,
                    31,
                    31,
                    31,
                    31,
                    31,
                    31,
                    31,
                    31,
                    31,
                    31,
                    31,
                    31,
                    31,
                    31,
                    31,
                    31,
                    31,
                    31,
                    31,
                    31,
                    31,
                    31,
                    31,
                    32,
                    32,
                    32,
                    32,
                    32,
                    32,
                    32,
                    32,
                    32,
                    32,
                    32,
                    32,
                    32,
                    32,
                    32,
                    32,
                    32,
                    32,
                    32,
                    32,
                    32,
                    32,
                    32,
                    32,
                    32,
                    32,
                    32,
                    32,
                    33,
                    33,
                    33,
                    33,
                    33,
                    33,
                    33,
                    33,
                    33,
                    33,
                    33,
                    33,
                    33,
                    33,
                    33,
                    33,
                    33,
                    33,
                    33,
                    33,
                    33,
                    33,
                    33,
                    33,
                    33,
                    33,
                    33,
                    33,
                    34,
                    34,
                    34,
                    34,
                    34,
                    34,
                    34,
                    34,
                    34,
                    34,
                    34,
                    34,
                    34,
                    34,
                    34,
                    34,
                    34,
                    34,
                    34,
                    34,
                    34,
                    34,
                    34,
                    34,
                    34,
                    34,
                    34,
                    34,
                    35,
                    35,
                    35,
                    35,
                    35,
                    35,
                    35,
                    35,
                    35,
                    35,
                    35,
                    35,
                    35,
                    35,
                    35,
                    35,
                    35,
                    35,
                    35,
                    35,
                    35,
                    35,
                    35,
                    35,
                    35,
                    35,
                    35,
                    35,
                    36,
                    36,
                    36,
                    36,
                    36,
                    36,
                    36,
                    36,
                    36,
                    36,
                    36,
                    36,
                    36,
                    36,
                    36,
                    36,
                    36,
                    36,
                    36,
                    36,
                    36,
                    36,
                    36,
                    36,
                    36,
                    36,
                    36,
                    36,
                    37,
                    37,
                    37,
                    37,
                    37,
                    37,
                    37,
                    37,
                    37,
                    37,
                    37,
                    37,
                    37,
                    37,
                    37,
                    37,
                    37,
                    37,
                    37,
                    37,
                    37,
                    37,
                    37,
                    37,
                    37,
                    37,
                    37,
                    37,
                    38,
                    38,
                    38,
                    38,
                    38,
                    38,
                    38,
                    38,
                    38,
                    38,
                    38,
                    38,
                    38,
                    38,
                    38,
                    38,
                    38,
                    38,
                    38,
                    38,
                    38,
                    38,
                    38,
                    38,
                    38,
                    38,
                    38,
                    38,
                    39,
                    39,
                    39,
                    39,
                    39,
                    39,
                    39,
                    39,
                    39,
                    39,
                    39,
                    39,
                    39,
                    39,
                    39,
                    39,
                    39,
                    39,
                    39,
                    39,
                    39,
                    39,
                    39,
                    39,
                    39,
                    39,
                    39,
                    39,
                    40,
                    40,
                    40,
                    40,
                    40,
                    40,
                    40,
                    40,
                    40,
                    40,
                    40,
                    40,
                    40,
                    40,
                    40,
                    40,
                    40,
                    40,
                    40,
                    40,
                    40,
                    40,
                    40,
                    40,
                    40,
                    40,
                    40,
                    40,
                    41,
                    41,
                    41,
                    41,
                    41,
                    41,
                    41,
                    41,
                    41,
                    41,
                    41,
                    41,
                    41,
                    41,
                    41,
                    41,
                    41,
                    41,
                    41,
                    41,
                    41,
                    41,
                    41,
                    41,
                    41,
                    41,
                    41,
                    41,
                    42,
                    42,
                    42,
                    42,
                    42,
                    42,
                    42,
                    42,
                    42,
                    42,
                    42,
                    42,
                    42,
                    42,
                    42,
                    42,
                    42,
                    42,
                    42,
                    42,
                    42,
                    42,
                    42,
                    42,
                    42,
                    42,
                    42,
                    42,
                    43,
                    43,
                    43,
                    43,
                    43,
                    43,
                    43,
                    43,
                    43,
                    43,
                    43,
                    43,
                    43,
                    43,
                    43,
                    43,
                    43,
                    43,
                    43,
                    43,
                    43,
                    43,
                    43,
                    43,
                    43,
                    43,
                    43,
                    43,
                    44,
                    44,
                    44,
                    44,
                    44,
                    44,
                    44,
                    44,
                    44,
                    44,
                    44,
                    44,
                    44,
                    44,
                    44,
                    44,
                    44,
                    44,
                    44,
                    44,
                    44,
                    44,
                    44,
                    44,
                    44,
                    44,
                    44,
                    44,
                    45,
                    45,
                    45,
                    45,
                    45,
                    45,
                    45,
                    45,
                    45,
                    45,
                    45,
                    45,
                    45,
                    45,
                    45,
                    45,
                    45,
                    45,
                    45,
                    45,
                    45,
                    45,
                    45,
                    45,
                    45,
                    45,
                    45,
                    45,
                    46,
                    46,
                    46,
                    46,
                    46,
                    46,
                    46,
                    46,
                    46,
                    46,
                    46,
                    46,
                    46,
                    46,
                    46,
                    46,
                    46,
                    46,
                    46,
                    46,
                    46,
                    46,
                    46,
                    46,
                    46,
                    46,
                    46,
                    46
                  ],
                  "xaxis": "x",
                  "y": [
                    301,
                    318,
                    350,
                    347,
                    350,
                    354,
                    368,
                    340,
                    381,
                    374,
                    369,
                    397,
                    364,
                    390,
                    404,
                    388,
                    471,
                    455,
                    466,
                    460,
                    462,
                    478,
                    543,
                    574,
                    604,
                    641,
                    729,
                    1060,
                    646,
                    645,
                    630,
                    654,
                    642,
                    622,
                    695,
                    653,
                    601,
                    629,
                    656,
                    725,
                    691,
                    725,
                    736,
                    720,
                    813,
                    812,
                    748,
                    803,
                    848,
                    814,
                    907,
                    929,
                    954,
                    1047,
                    1275,
                    1635,
                    661,
                    730,
                    692,
                    702,
                    711,
                    696,
                    714,
                    692,
                    684,
                    652,
                    681,
                    739,
                    711,
                    714,
                    750,
                    777,
                    794,
                    773,
                    816,
                    821,
                    939,
                    946,
                    993,
                    1099,
                    1010,
                    1129,
                    1286,
                    1757,
                    273,
                    252,
                    268,
                    252,
                    257,
                    286,
                    268,
                    266,
                    279,
                    283,
                    307,
                    270,
                    292,
                    313,
                    293,
                    329,
                    349,
                    328,
                    302,
                    367,
                    349,
                    341,
                    399,
                    447,
                    464,
                    483,
                    632,
                    647,
                    324,
                    328,
                    352,
                    299,
                    321,
                    323,
                    302,
                    314,
                    328,
                    332,
                    296,
                    322,
                    342,
                    315,
                    378,
                    379,
                    437,
                    429,
                    383,
                    462,
                    475,
                    468,
                    462,
                    573,
                    555,
                    600,
                    797,
                    1071,
                    31,
                    19,
                    28,
                    46,
                    31,
                    30,
                    24,
                    32,
                    35,
                    24,
                    26,
                    24,
                    37,
                    25,
                    31,
                    32,
                    25,
                    39,
                    28,
                    29,
                    30,
                    23,
                    43,
                    36,
                    36,
                    33,
                    29,
                    52,
                    1653,
                    1664,
                    1688,
                    1742,
                    1652,
                    1722,
                    1663,
                    1604,
                    1813,
                    1863,
                    1826,
                    1924,
                    1898,
                    1983,
                    2107,
                    2156,
                    2340,
                    2173,
                    2287,
                    2450,
                    2516,
                    2605,
                    2726,
                    3151,
                    3103,
                    3221,
                    4753,
                    5002,
                    169,
                    209,
                    183,
                    176,
                    203,
                    155,
                    203,
                    194,
                    168,
                    173,
                    192,
                    201,
                    187,
                    223,
                    205,
                    198,
                    222,
                    224,
                    230,
                    203,
                    225,
                    243,
                    229,
                    257,
                    224,
                    228,
                    313,
                    439,
                    320,
                    361,
                    388,
                    386,
                    364,
                    347,
                    324,
                    273,
                    316,
                    318,
                    344,
                    381,
                    333,
                    324,
                    372,
                    373,
                    364,
                    380,
                    422,
                    403,
                    414,
                    427,
                    485,
                    514,
                    507,
                    505,
                    674,
                    794,
                    53,
                    70,
                    64,
                    76,
                    64,
                    72,
                    65,
                    63,
                    65,
                    66,
                    57,
                    67,
                    75,
                    78,
                    61,
                    91,
                    85,
                    79,
                    68,
                    80,
                    95,
                    114,
                    70,
                    75,
                    94,
                    79,
                    116,
                    137,
                    433,
                    419,
                    437,
                    394,
                    426,
                    469,
                    394,
                    419,
                    458,
                    428,
                    466,
                    431,
                    448,
                    458,
                    480,
                    493,
                    499,
                    482,
                    517,
                    545,
                    556,
                    569,
                    554,
                    622,
                    718,
                    575,
                    1038,
                    995,
                    148,
                    120,
                    143,
                    143,
                    162,
                    142,
                    155,
                    157,
                    136,
                    176,
                    148,
                    150,
                    157,
                    139,
                    147,
                    165,
                    156,
                    189,
                    167,
                    184,
                    178,
                    177,
                    179,
                    191,
                    222,
                    217,
                    294,
                    354,
                    107,
                    92,
                    111,
                    98,
                    114,
                    86,
                    83,
                    114,
                    104,
                    91,
                    115,
                    87,
                    104,
                    93,
                    98,
                    86,
                    102,
                    107,
                    109,
                    96,
                    113,
                    108,
                    106,
                    145,
                    152,
                    139,
                    184,
                    188,
                    580,
                    612,
                    582,
                    621,
                    625,
                    597,
                    573,
                    530,
                    549,
                    611,
                    566,
                    582,
                    562,
                    647,
                    651,
                    654,
                    705,
                    729,
                    750,
                    795,
                    738,
                    767,
                    817,
                    822,
                    899,
                    904,
                    1208,
                    1427,
                    598,
                    641,
                    634,
                    594,
                    581,
                    593,
                    596,
                    593,
                    631,
                    652,
                    623,
                    761,
                    656,
                    704,
                    780,
                    741,
                    755,
                    795,
                    813,
                    802,
                    841,
                    889,
                    918,
                    900,
                    948,
                    1012,
                    1368,
                    1577,
                    76,
                    72,
                    72,
                    93,
                    82,
                    103,
                    87,
                    89,
                    86,
                    106,
                    84,
                    96,
                    86,
                    94,
                    104,
                    100,
                    131,
                    130,
                    131,
                    139,
                    114,
                    108,
                    130,
                    135,
                    158,
                    182,
                    194,
                    243,
                    1830,
                    1899,
                    1948,
                    1860,
                    1929,
                    1915,
                    1844,
                    1820,
                    2014,
                    2054,
                    1942,
                    2158,
                    2026,
                    2160,
                    2303,
                    2304,
                    2554,
                    2389,
                    2713,
                    2718,
                    2816,
                    2865,
                    3146,
                    3259,
                    3555,
                    3941,
                    5138,
                    5385,
                    152,
                    161,
                    178,
                    150,
                    175,
                    159,
                    136,
                    157,
                    171,
                    146,
                    186,
                    170,
                    177,
                    192,
                    163,
                    219,
                    200,
                    208,
                    203,
                    199,
                    230,
                    232,
                    241,
                    274,
                    269,
                    277,
                    369,
                    388,
                    282,
                    238,
                    309,
                    277,
                    281,
                    282,
                    222,
                    265,
                    249,
                    253,
                    265,
                    232,
                    282,
                    282,
                    304,
                    300,
                    293,
                    282,
                    309,
                    328,
                    347,
                    322,
                    337,
                    341,
                    350,
                    383,
                    424,
                    536,
                    4421,
                    4536,
                    4254,
                    4484,
                    4589,
                    4600,
                    4746,
                    4176,
                    5178,
                    5002,
                    4793,
                    5158,
                    5055,
                    5381,
                    5679,
                    5685,
                    5993,
                    5938,
                    6196,
                    6518,
                    6778,
                    6931,
                    7572,
                    7961,
                    8055,
                    8325,
                    12641,
                    12977,
                    239,
                    230,
                    248,
                    239,
                    228,
                    255,
                    257,
                    237,
                    264,
                    259,
                    248,
                    247,
                    263,
                    250,
                    282,
                    278,
                    330,
                    280,
                    323,
                    297,
                    336,
                    339,
                    338,
                    368,
                    371,
                    359,
                    541,
                    572,
                    117,
                    134,
                    134,
                    149,
                    136,
                    121,
                    137,
                    93,
                    99,
                    107,
                    87,
                    98,
                    109,
                    131,
                    126,
                    125,
                    111,
                    112,
                    98,
                    104,
                    130,
                    143,
                    121,
                    154,
                    141,
                    140,
                    202,
                    236,
                    708,
                    708,
                    716,
                    735,
                    724,
                    695,
                    678,
                    661,
                    683,
                    739,
                    768,
                    746,
                    761,
                    757,
                    792,
                    812,
                    848,
                    859,
                    865,
                    865,
                    897,
                    916,
                    1054,
                    1070,
                    1164,
                    1163,
                    1467,
                    1648,
                    91,
                    87,
                    86,
                    70,
                    69,
                    78,
                    58,
                    74,
                    67,
                    68,
                    71,
                    70,
                    73,
                    79,
                    76,
                    92,
                    93,
                    74,
                    104,
                    88,
                    86,
                    81,
                    90,
                    108,
                    110,
                    108,
                    138,
                    201,
                    143,
                    174,
                    173,
                    181,
                    194,
                    189,
                    195,
                    168,
                    201,
                    182,
                    179,
                    223,
                    218,
                    207,
                    236,
                    238,
                    265,
                    239,
                    233,
                    273,
                    274,
                    297,
                    320,
                    321,
                    366,
                    385,
                    505,
                    649,
                    227,
                    265,
                    247,
                    280,
                    235,
                    263,
                    243,
                    241,
                    269,
                    275,
                    244,
                    247,
                    234,
                    245,
                    268,
                    262,
                    284,
                    300,
                    295,
                    303,
                    317,
                    316,
                    343,
                    366,
                    360,
                    382,
                    554,
                    555,
                    962,
                    968,
                    1003,
                    944,
                    986,
                    1048,
                    1016,
                    1049,
                    1019,
                    1064,
                    1129,
                    1127,
                    1100,
                    1098,
                    1268,
                    1219,
                    1343,
                    1339,
                    1388,
                    1475,
                    1426,
                    1476,
                    1666,
                    1849,
                    2052,
                    2162,
                    2996,
                    2771,
                    605,
                    610,
                    581,
                    581,
                    570,
                    620,
                    550,
                    595,
                    571,
                    544,
                    588,
                    605,
                    626,
                    611,
                    646,
                    720,
                    725,
                    709,
                    664,
                    692,
                    781,
                    815,
                    840,
                    886,
                    957,
                    945,
                    1275,
                    1304,
                    186,
                    176,
                    209,
                    193,
                    193,
                    159,
                    169,
                    147,
                    173,
                    159,
                    164,
                    178,
                    163,
                    149,
                    159,
                    185,
                    187,
                    183,
                    168,
                    187,
                    176,
                    189,
                    192,
                    213,
                    218,
                    227,
                    275,
                    346,
                    468,
                    475,
                    459,
                    458,
                    484,
                    491,
                    455,
                    385,
                    434,
                    495,
                    448,
                    463,
                    485,
                    490,
                    528,
                    500,
                    492,
                    522,
                    561,
                    557,
                    570,
                    528,
                    569,
                    635,
                    580,
                    678,
                    835,
                    1014,
                    453,
                    471,
                    497,
                    497,
                    517,
                    471,
                    442,
                    461,
                    453,
                    480,
                    465,
                    517,
                    481,
                    502,
                    511,
                    511,
                    583,
                    535,
                    508,
                    563,
                    608,
                    579,
                    653,
                    709,
                    650,
                    712,
                    1016,
                    1293,
                    280,
                    306,
                    301,
                    280,
                    309,
                    301,
                    280,
                    277,
                    268,
                    286,
                    302,
                    257,
                    321,
                    272,
                    295,
                    277,
                    328,
                    323,
                    316,
                    355,
                    352,
                    379,
                    330,
                    352,
                    413,
                    422,
                    578,
                    708,
                    447,
                    501,
                    518,
                    486,
                    544,
                    490,
                    482,
                    412,
                    503,
                    503,
                    463,
                    499,
                    466,
                    491,
                    489,
                    539,
                    541,
                    537,
                    509,
                    573,
                    557,
                    562,
                    619,
                    685,
                    647,
                    716,
                    998,
                    1145,
                    18,
                    39,
                    32,
                    36,
                    38,
                    30,
                    36,
                    30,
                    32,
                    23,
                    32,
                    32,
                    28,
                    25,
                    36,
                    34,
                    38,
                    31,
                    47,
                    31,
                    30,
                    49,
                    35,
                    46,
                    40,
                    42,
                    44,
                    59,
                    322,
                    316,
                    294,
                    342,
                    350,
                    326,
                    310,
                    281,
                    311,
                    337,
                    326,
                    372,
                    292,
                    344,
                    333,
                    391,
                    412,
                    397,
                    437,
                    471,
                    408,
                    427,
                    468,
                    564,
                    475,
                    532,
                    803,
                    755,
                    54,
                    54,
                    49,
                    49,
                    51,
                    49,
                    57,
                    60,
                    42,
                    65,
                    44,
                    44,
                    50,
                    63,
                    52,
                    54,
                    61,
                    54,
                    51,
                    61,
                    68,
                    58,
                    84,
                    92,
                    78,
                    83,
                    105,
                    92,
                    588,
                    617,
                    615,
                    623,
                    624,
                    636,
                    591,
                    576,
                    673,
                    645,
                    639,
                    652,
                    694,
                    643,
                    653,
                    690,
                    743,
                    730,
                    785,
                    814,
                    863,
                    874,
                    877,
                    979,
                    1116,
                    1183,
                    1591,
                    1597,
                    61,
                    65,
                    62,
                    67,
                    67,
                    62,
                    88,
                    81,
                    71,
                    75,
                    81,
                    65,
                    79,
                    85,
                    72,
                    78,
                    66,
                    85,
                    95,
                    95,
                    85,
                    101,
                    115,
                    106,
                    96,
                    90,
                    120,
                    146,
                    182,
                    223,
                    197,
                    213,
                    217,
                    191,
                    187,
                    196,
                    194,
                    211,
                    223,
                    206,
                    216,
                    206,
                    255,
                    246,
                    283,
                    235,
                    265,
                    255,
                    270,
                    285,
                    272,
                    346,
                    321,
                    350,
                    445,
                    479,
                    91,
                    92,
                    95,
                    82,
                    81,
                    79,
                    68,
                    73,
                    103,
                    77,
                    88,
                    85,
                    89,
                    93,
                    89,
                    71,
                    82,
                    80,
                    94,
                    96,
                    90,
                    101,
                    96,
                    114,
                    95,
                    102,
                    136,
                    144,
                    180,
                    174,
                    199,
                    217,
                    192,
                    233,
                    257,
                    237,
                    234,
                    251,
                    255,
                    270,
                    240,
                    281,
                    281,
                    319,
                    294,
                    308,
                    325,
                    336,
                    345,
                    379,
                    345,
                    383,
                    405,
                    381,
                    583,
                    606,
                    612,
                    659,
                    614,
                    679,
                    623,
                    641,
                    663,
                    590,
                    625,
                    667,
                    659,
                    700,
                    691,
                    671,
                    728,
                    756,
                    828,
                    793,
                    740,
                    857,
                    783,
                    813,
                    926,
                    971,
                    1048,
                    1085,
                    1373,
                    1602,
                    100,
                    100,
                    122,
                    94,
                    100,
                    113,
                    103,
                    99,
                    111,
                    103,
                    113,
                    91,
                    107,
                    114,
                    116,
                    91,
                    98,
                    112,
                    126,
                    107,
                    139,
                    123,
                    131,
                    141,
                    127,
                    146,
                    184,
                    200,
                    185,
                    217,
                    254,
                    181,
                    242,
                    207,
                    200,
                    192,
                    199,
                    210,
                    230,
                    252,
                    216,
                    202,
                    258,
                    278,
                    278,
                    251,
                    292,
                    294,
                    305,
                    326,
                    322,
                    370,
                    416,
                    351,
                    603,
                    500,
                    70,
                    68,
                    67,
                    50,
                    62,
                    58,
                    53,
                    61,
                    67,
                    56,
                    59,
                    61,
                    60,
                    47,
                    58,
                    54,
                    79,
                    71,
                    57,
                    46,
                    51,
                    43,
                    53,
                    67,
                    65,
                    78,
                    100,
                    97,
                    342,
                    361,
                    378,
                    372,
                    362,
                    384,
                    353,
                    345,
                    363,
                    373,
                    381,
                    414,
                    419,
                    367,
                    447,
                    406,
                    448,
                    441,
                    438,
                    458,
                    455,
                    530,
                    484,
                    589,
                    611,
                    599,
                    740,
                    892
                  ],
                  "yaxis": "y"
                }
              ],
              "layout": {
                "legend": {
                  "tracegroupgap": 0
                },
                "margin": {
                  "t": 60
                },
                "template": {
                  "data": {
                    "bar": [
                      {
                        "error_x": {
                          "color": "#2a3f5f"
                        },
                        "error_y": {
                          "color": "#2a3f5f"
                        },
                        "marker": {
                          "line": {
                            "color": "#E5ECF6",
                            "width": 0.5
                          },
                          "pattern": {
                            "fillmode": "overlay",
                            "size": 10,
                            "solidity": 0.2
                          }
                        },
                        "type": "bar"
                      }
                    ],
                    "barpolar": [
                      {
                        "marker": {
                          "line": {
                            "color": "#E5ECF6",
                            "width": 0.5
                          },
                          "pattern": {
                            "fillmode": "overlay",
                            "size": 10,
                            "solidity": 0.2
                          }
                        },
                        "type": "barpolar"
                      }
                    ],
                    "carpet": [
                      {
                        "aaxis": {
                          "endlinecolor": "#2a3f5f",
                          "gridcolor": "white",
                          "linecolor": "white",
                          "minorgridcolor": "white",
                          "startlinecolor": "#2a3f5f"
                        },
                        "baxis": {
                          "endlinecolor": "#2a3f5f",
                          "gridcolor": "white",
                          "linecolor": "white",
                          "minorgridcolor": "white",
                          "startlinecolor": "#2a3f5f"
                        },
                        "type": "carpet"
                      }
                    ],
                    "choropleth": [
                      {
                        "colorbar": {
                          "outlinewidth": 0,
                          "ticks": ""
                        },
                        "type": "choropleth"
                      }
                    ],
                    "contour": [
                      {
                        "colorbar": {
                          "outlinewidth": 0,
                          "ticks": ""
                        },
                        "colorscale": [
                          [
                            0,
                            "#0d0887"
                          ],
                          [
                            0.1111111111111111,
                            "#46039f"
                          ],
                          [
                            0.2222222222222222,
                            "#7201a8"
                          ],
                          [
                            0.3333333333333333,
                            "#9c179e"
                          ],
                          [
                            0.4444444444444444,
                            "#bd3786"
                          ],
                          [
                            0.5555555555555556,
                            "#d8576b"
                          ],
                          [
                            0.6666666666666666,
                            "#ed7953"
                          ],
                          [
                            0.7777777777777778,
                            "#fb9f3a"
                          ],
                          [
                            0.8888888888888888,
                            "#fdca26"
                          ],
                          [
                            1,
                            "#f0f921"
                          ]
                        ],
                        "type": "contour"
                      }
                    ],
                    "contourcarpet": [
                      {
                        "colorbar": {
                          "outlinewidth": 0,
                          "ticks": ""
                        },
                        "type": "contourcarpet"
                      }
                    ],
                    "heatmap": [
                      {
                        "colorbar": {
                          "outlinewidth": 0,
                          "ticks": ""
                        },
                        "colorscale": [
                          [
                            0,
                            "#0d0887"
                          ],
                          [
                            0.1111111111111111,
                            "#46039f"
                          ],
                          [
                            0.2222222222222222,
                            "#7201a8"
                          ],
                          [
                            0.3333333333333333,
                            "#9c179e"
                          ],
                          [
                            0.4444444444444444,
                            "#bd3786"
                          ],
                          [
                            0.5555555555555556,
                            "#d8576b"
                          ],
                          [
                            0.6666666666666666,
                            "#ed7953"
                          ],
                          [
                            0.7777777777777778,
                            "#fb9f3a"
                          ],
                          [
                            0.8888888888888888,
                            "#fdca26"
                          ],
                          [
                            1,
                            "#f0f921"
                          ]
                        ],
                        "type": "heatmap"
                      }
                    ],
                    "heatmapgl": [
                      {
                        "colorbar": {
                          "outlinewidth": 0,
                          "ticks": ""
                        },
                        "colorscale": [
                          [
                            0,
                            "#0d0887"
                          ],
                          [
                            0.1111111111111111,
                            "#46039f"
                          ],
                          [
                            0.2222222222222222,
                            "#7201a8"
                          ],
                          [
                            0.3333333333333333,
                            "#9c179e"
                          ],
                          [
                            0.4444444444444444,
                            "#bd3786"
                          ],
                          [
                            0.5555555555555556,
                            "#d8576b"
                          ],
                          [
                            0.6666666666666666,
                            "#ed7953"
                          ],
                          [
                            0.7777777777777778,
                            "#fb9f3a"
                          ],
                          [
                            0.8888888888888888,
                            "#fdca26"
                          ],
                          [
                            1,
                            "#f0f921"
                          ]
                        ],
                        "type": "heatmapgl"
                      }
                    ],
                    "histogram": [
                      {
                        "marker": {
                          "pattern": {
                            "fillmode": "overlay",
                            "size": 10,
                            "solidity": 0.2
                          }
                        },
                        "type": "histogram"
                      }
                    ],
                    "histogram2d": [
                      {
                        "colorbar": {
                          "outlinewidth": 0,
                          "ticks": ""
                        },
                        "colorscale": [
                          [
                            0,
                            "#0d0887"
                          ],
                          [
                            0.1111111111111111,
                            "#46039f"
                          ],
                          [
                            0.2222222222222222,
                            "#7201a8"
                          ],
                          [
                            0.3333333333333333,
                            "#9c179e"
                          ],
                          [
                            0.4444444444444444,
                            "#bd3786"
                          ],
                          [
                            0.5555555555555556,
                            "#d8576b"
                          ],
                          [
                            0.6666666666666666,
                            "#ed7953"
                          ],
                          [
                            0.7777777777777778,
                            "#fb9f3a"
                          ],
                          [
                            0.8888888888888888,
                            "#fdca26"
                          ],
                          [
                            1,
                            "#f0f921"
                          ]
                        ],
                        "type": "histogram2d"
                      }
                    ],
                    "histogram2dcontour": [
                      {
                        "colorbar": {
                          "outlinewidth": 0,
                          "ticks": ""
                        },
                        "colorscale": [
                          [
                            0,
                            "#0d0887"
                          ],
                          [
                            0.1111111111111111,
                            "#46039f"
                          ],
                          [
                            0.2222222222222222,
                            "#7201a8"
                          ],
                          [
                            0.3333333333333333,
                            "#9c179e"
                          ],
                          [
                            0.4444444444444444,
                            "#bd3786"
                          ],
                          [
                            0.5555555555555556,
                            "#d8576b"
                          ],
                          [
                            0.6666666666666666,
                            "#ed7953"
                          ],
                          [
                            0.7777777777777778,
                            "#fb9f3a"
                          ],
                          [
                            0.8888888888888888,
                            "#fdca26"
                          ],
                          [
                            1,
                            "#f0f921"
                          ]
                        ],
                        "type": "histogram2dcontour"
                      }
                    ],
                    "mesh3d": [
                      {
                        "colorbar": {
                          "outlinewidth": 0,
                          "ticks": ""
                        },
                        "type": "mesh3d"
                      }
                    ],
                    "parcoords": [
                      {
                        "line": {
                          "colorbar": {
                            "outlinewidth": 0,
                            "ticks": ""
                          }
                        },
                        "type": "parcoords"
                      }
                    ],
                    "pie": [
                      {
                        "automargin": true,
                        "type": "pie"
                      }
                    ],
                    "scatter": [
                      {
                        "fillpattern": {
                          "fillmode": "overlay",
                          "size": 10,
                          "solidity": 0.2
                        },
                        "type": "scatter"
                      }
                    ],
                    "scatter3d": [
                      {
                        "line": {
                          "colorbar": {
                            "outlinewidth": 0,
                            "ticks": ""
                          }
                        },
                        "marker": {
                          "colorbar": {
                            "outlinewidth": 0,
                            "ticks": ""
                          }
                        },
                        "type": "scatter3d"
                      }
                    ],
                    "scattercarpet": [
                      {
                        "marker": {
                          "colorbar": {
                            "outlinewidth": 0,
                            "ticks": ""
                          }
                        },
                        "type": "scattercarpet"
                      }
                    ],
                    "scattergeo": [
                      {
                        "marker": {
                          "colorbar": {
                            "outlinewidth": 0,
                            "ticks": ""
                          }
                        },
                        "type": "scattergeo"
                      }
                    ],
                    "scattergl": [
                      {
                        "marker": {
                          "colorbar": {
                            "outlinewidth": 0,
                            "ticks": ""
                          }
                        },
                        "type": "scattergl"
                      }
                    ],
                    "scattermapbox": [
                      {
                        "marker": {
                          "colorbar": {
                            "outlinewidth": 0,
                            "ticks": ""
                          }
                        },
                        "type": "scattermapbox"
                      }
                    ],
                    "scatterpolar": [
                      {
                        "marker": {
                          "colorbar": {
                            "outlinewidth": 0,
                            "ticks": ""
                          }
                        },
                        "type": "scatterpolar"
                      }
                    ],
                    "scatterpolargl": [
                      {
                        "marker": {
                          "colorbar": {
                            "outlinewidth": 0,
                            "ticks": ""
                          }
                        },
                        "type": "scatterpolargl"
                      }
                    ],
                    "scatterternary": [
                      {
                        "marker": {
                          "colorbar": {
                            "outlinewidth": 0,
                            "ticks": ""
                          }
                        },
                        "type": "scatterternary"
                      }
                    ],
                    "surface": [
                      {
                        "colorbar": {
                          "outlinewidth": 0,
                          "ticks": ""
                        },
                        "colorscale": [
                          [
                            0,
                            "#0d0887"
                          ],
                          [
                            0.1111111111111111,
                            "#46039f"
                          ],
                          [
                            0.2222222222222222,
                            "#7201a8"
                          ],
                          [
                            0.3333333333333333,
                            "#9c179e"
                          ],
                          [
                            0.4444444444444444,
                            "#bd3786"
                          ],
                          [
                            0.5555555555555556,
                            "#d8576b"
                          ],
                          [
                            0.6666666666666666,
                            "#ed7953"
                          ],
                          [
                            0.7777777777777778,
                            "#fb9f3a"
                          ],
                          [
                            0.8888888888888888,
                            "#fdca26"
                          ],
                          [
                            1,
                            "#f0f921"
                          ]
                        ],
                        "type": "surface"
                      }
                    ],
                    "table": [
                      {
                        "cells": {
                          "fill": {
                            "color": "#EBF0F8"
                          },
                          "line": {
                            "color": "white"
                          }
                        },
                        "header": {
                          "fill": {
                            "color": "#C8D4E3"
                          },
                          "line": {
                            "color": "white"
                          }
                        },
                        "type": "table"
                      }
                    ]
                  },
                  "layout": {
                    "annotationdefaults": {
                      "arrowcolor": "#2a3f5f",
                      "arrowhead": 0,
                      "arrowwidth": 1
                    },
                    "autotypenumbers": "strict",
                    "coloraxis": {
                      "colorbar": {
                        "outlinewidth": 0,
                        "ticks": ""
                      }
                    },
                    "colorscale": {
                      "diverging": [
                        [
                          0,
                          "#8e0152"
                        ],
                        [
                          0.1,
                          "#c51b7d"
                        ],
                        [
                          0.2,
                          "#de77ae"
                        ],
                        [
                          0.3,
                          "#f1b6da"
                        ],
                        [
                          0.4,
                          "#fde0ef"
                        ],
                        [
                          0.5,
                          "#f7f7f7"
                        ],
                        [
                          0.6,
                          "#e6f5d0"
                        ],
                        [
                          0.7,
                          "#b8e186"
                        ],
                        [
                          0.8,
                          "#7fbc41"
                        ],
                        [
                          0.9,
                          "#4d9221"
                        ],
                        [
                          1,
                          "#276419"
                        ]
                      ],
                      "sequential": [
                        [
                          0,
                          "#0d0887"
                        ],
                        [
                          0.1111111111111111,
                          "#46039f"
                        ],
                        [
                          0.2222222222222222,
                          "#7201a8"
                        ],
                        [
                          0.3333333333333333,
                          "#9c179e"
                        ],
                        [
                          0.4444444444444444,
                          "#bd3786"
                        ],
                        [
                          0.5555555555555556,
                          "#d8576b"
                        ],
                        [
                          0.6666666666666666,
                          "#ed7953"
                        ],
                        [
                          0.7777777777777778,
                          "#fb9f3a"
                        ],
                        [
                          0.8888888888888888,
                          "#fdca26"
                        ],
                        [
                          1,
                          "#f0f921"
                        ]
                      ],
                      "sequentialminus": [
                        [
                          0,
                          "#0d0887"
                        ],
                        [
                          0.1111111111111111,
                          "#46039f"
                        ],
                        [
                          0.2222222222222222,
                          "#7201a8"
                        ],
                        [
                          0.3333333333333333,
                          "#9c179e"
                        ],
                        [
                          0.4444444444444444,
                          "#bd3786"
                        ],
                        [
                          0.5555555555555556,
                          "#d8576b"
                        ],
                        [
                          0.6666666666666666,
                          "#ed7953"
                        ],
                        [
                          0.7777777777777778,
                          "#fb9f3a"
                        ],
                        [
                          0.8888888888888888,
                          "#fdca26"
                        ],
                        [
                          1,
                          "#f0f921"
                        ]
                      ]
                    },
                    "colorway": [
                      "#636efa",
                      "#EF553B",
                      "#00cc96",
                      "#ab63fa",
                      "#FFA15A",
                      "#19d3f3",
                      "#FF6692",
                      "#B6E880",
                      "#FF97FF",
                      "#FECB52"
                    ],
                    "font": {
                      "color": "#2a3f5f"
                    },
                    "geo": {
                      "bgcolor": "white",
                      "lakecolor": "white",
                      "landcolor": "#E5ECF6",
                      "showlakes": true,
                      "showland": true,
                      "subunitcolor": "white"
                    },
                    "hoverlabel": {
                      "align": "left"
                    },
                    "hovermode": "closest",
                    "mapbox": {
                      "style": "light"
                    },
                    "paper_bgcolor": "white",
                    "plot_bgcolor": "#E5ECF6",
                    "polar": {
                      "angularaxis": {
                        "gridcolor": "white",
                        "linecolor": "white",
                        "ticks": ""
                      },
                      "bgcolor": "#E5ECF6",
                      "radialaxis": {
                        "gridcolor": "white",
                        "linecolor": "white",
                        "ticks": ""
                      }
                    },
                    "scene": {
                      "xaxis": {
                        "backgroundcolor": "#E5ECF6",
                        "gridcolor": "white",
                        "gridwidth": 2,
                        "linecolor": "white",
                        "showbackground": true,
                        "ticks": "",
                        "zerolinecolor": "white"
                      },
                      "yaxis": {
                        "backgroundcolor": "#E5ECF6",
                        "gridcolor": "white",
                        "gridwidth": 2,
                        "linecolor": "white",
                        "showbackground": true,
                        "ticks": "",
                        "zerolinecolor": "white"
                      },
                      "zaxis": {
                        "backgroundcolor": "#E5ECF6",
                        "gridcolor": "white",
                        "gridwidth": 2,
                        "linecolor": "white",
                        "showbackground": true,
                        "ticks": "",
                        "zerolinecolor": "white"
                      }
                    },
                    "shapedefaults": {
                      "line": {
                        "color": "#2a3f5f"
                      }
                    },
                    "ternary": {
                      "aaxis": {
                        "gridcolor": "white",
                        "linecolor": "white",
                        "ticks": ""
                      },
                      "baxis": {
                        "gridcolor": "white",
                        "linecolor": "white",
                        "ticks": ""
                      },
                      "bgcolor": "#E5ECF6",
                      "caxis": {
                        "gridcolor": "white",
                        "linecolor": "white",
                        "ticks": ""
                      }
                    },
                    "title": {
                      "x": 0.05
                    },
                    "xaxis": {
                      "automargin": true,
                      "gridcolor": "white",
                      "linecolor": "white",
                      "ticks": "",
                      "title": {
                        "standoff": 15
                      },
                      "zerolinecolor": "white",
                      "zerolinewidth": 2
                    },
                    "yaxis": {
                      "automargin": true,
                      "gridcolor": "white",
                      "linecolor": "white",
                      "ticks": "",
                      "title": {
                        "standoff": 15
                      },
                      "zerolinecolor": "white",
                      "zerolinewidth": 2
                    }
                  }
                },
                "xaxis": {
                  "anchor": "y",
                  "domain": [
                    0,
                    1
                  ],
                  "title": {
                    "text": "cve_municipio"
                  }
                },
                "yaxis": {
                  "anchor": "x",
                  "domain": [
                    0,
                    1
                  ],
                  "title": {
                    "text": "valor"
                  }
                }
              }
            }
          },
          "metadata": {},
          "output_type": "display_data"
        }
      ],
      "source": [
        "#Scatter plot sencilla para ejemplo\n",
        "fig = px.scatter(df_mun_g,x='cve_municipio', y=\"valor\")\n",
        "fig.show()"
      ]
    },
    {
      "cell_type": "code",
      "execution_count": 9,
      "metadata": {
        "id": "_dMrogY2thxn"
      },
      "outputs": [],
      "source": [
        "# -*- coding: utf-8 -*-\n",
        "\n",
        "import dash\n",
        "from dash import dcc # Dash core components\n",
        "from dash import html\n",
        "import plotly.express as px\n",
        "import pandas as pd\n",
        "from jupyter_dash import JupyterDash\n",
        "import numpy as np\n",
        "\n",
        "\n",
        "external_stylesheets = ['https://codepen.io/chriddyp/pen/bWLwgP.css']\n",
        "\n",
        "app = JupyterDash(__name__, external_stylesheets=external_stylesheets)#, external_stylesheets=external_stylesheets)\n",
        "\n",
        "#Selección de los datos\n",
        "df = pd.read_csv('https://media.githubusercontent.com/media/JorgeHdzRiv/Defunciones_Gto/main/data/mortalidad/conjunto_de_datos/evmor_11_valor.csv')\n",
        "\n",
        "\n",
        "\n",
        "# Filtro para datos municipio y defunciones generales\n",
        "df_mun = df[(df['cve_municipio'] != 0) & (df['cve_municipio'] != 996)]\n",
        "\n",
        "df_mun_g = df_mun[(df_mun['id_indicador'] == 1002000030)]\n",
        "\n",
        "df_mun_h = df_mun[(df_mun['id_indicador'] == 1002000031)]\n",
        "\n",
        "df_mun_m = df_mun[(df_mun['id_indicador'] == 1002000032)]\n",
        "\n",
        "# Nueva linea de prueba\n",
        "\n",
        "# Probando filtro nuevo para defunciones en cada municipio\n",
        "df_mun_all = df_mun[(df_mun['id_indicador'] >= 1002000030) & (df_mun['id_indicador'] <= 1002000038)]\n",
        "\n",
        "#Variables\n",
        "available_indicators = df_mun_all['indicador'].unique()\n",
        "\n",
        "#Scatter plot sencilla para ejemplo\n",
        "fig = px.scatter(df_mun_g, x=\"año\", y=\"valor\")\n",
        "#fig.show()\n",
        "\n",
        "# Line charts sencilla para ejemplo\n",
        "fig_line = px.line(df_mun_g, x=\"año\", y=\"valor\", title='Defunciones en los municipios de Guanajuato', color='desc_municipio')\n",
        "#fig_line.show()\n",
        "\n",
        "app.layout = html.Div(children=[\n",
        "    html.H1(children='Defunciones en el estado de Guanajuato'), \n",
        "    html.H2(children='Subdivisión por municipios'),\n",
        "\n",
        "    html.Div(children='''\n",
        "        Scatter de defunciones.\n",
        "    '''),\n",
        "\n",
        "    dcc.Graph(\n",
        "        id='example-graph',\n",
        "        figure=fig\n",
        "    ),\n",
        "\n",
        "    html.Div(children='''\n",
        "         Grafica del tiempo por municipio.\n",
        "    '''),\n",
        "\n",
        "    dcc.Graph(\n",
        "        id='example-graph2',\n",
        "        figure=fig_line\n",
        "    ),\n",
        "\n",
        "     html.Div(children='''\n",
        "         Grafica de defunciones a lo largo del tiempo en cada municipio.\n",
        "    '''),\n",
        "\n",
        "    dcc.Graph(id='pie-with-slider'),\n",
        "    dcc.Slider(\n",
        "        id='year-slider',\n",
        "        min=df_mun_g['año'].min(),\n",
        "        max=df_mun_g['año'].max(),\n",
        "        value=df_mun_g['año'].min(),\n",
        "        marks={str(año): str(año) for año in df_mun_g['año'].unique()},\n",
        "        step=None\n",
        "    ),\n",
        "\n",
        "    #Nueva linea de codigo\n",
        "    html.Div([\n",
        "\n",
        "        html.Div([\n",
        "            dcc.Dropdown(\n",
        "                id='indicator',\n",
        "                options=[{'label': i, 'value': i} for i in available_indicators],\n",
        "                value='Defunciones generales'\n",
        "            )\n",
        "        ],\n",
        "        style={'width': '48%', 'display': 'inline-block'}),\n",
        "    ]),\n",
        "\n",
        "    dcc.Graph(id='indicator-graphic'),\n",
        "\n",
        "    dcc.Slider(\n",
        "        id='year--slider',\n",
        "        min=df_mun_all['año'].min(),\n",
        "        max=df_mun_all['año'].max(),\n",
        "        value=df_mun_all['año'].max(),\n",
        "        marks={str(year): str(year) for year in df_mun_all['año'].unique()},\n",
        "        step=None\n",
        "    )\n",
        "\n",
        "], style={'background-color': '#FFF0B1'})\n"
      ]
    },
    {
      "cell_type": "code",
      "execution_count": 10,
      "metadata": {
        "colab": {
          "base_uri": "https://localhost:8080/",
          "height": 53
        },
        "id": "x57aPprf0D7D",
        "outputId": "ad2946a3-c4a1-478b-c51f-5f6b79ccd08e"
      },
      "outputs": [
        {
          "name": "stdout",
          "output_type": "stream",
          "text": [
            "Dash app running on http://127.0.0.1:8050/\n"
          ]
        }
      ],
      "source": [
        "@app.callback(\n",
        "    Output('pie-with-slider', 'figure'),\n",
        "    Input('year-slider', 'value'))\n",
        "\n",
        "def update_figure(selected_year):\n",
        "    filtered_df = df_mun_g[df_mun_g.año == selected_year]\n",
        "\n",
        "    filtered_df.loc[filtered_df['valor'] < 200, 'desc_municipio'] = 'Otros' # Represent only large countries\n",
        "    fig = px.pie(filtered_df, values='valor', names='desc_municipio', title='Defunciones en general en el estado de guanajuato')                \n",
        "\n",
        "    fig.update_layout(transition_duration=500)\n",
        "\n",
        "    return fig\n",
        "\n",
        "@app.callback(\n",
        "    Output('indicator-graphic', 'figure'),\n",
        "    Input('indicator', 'value'),\n",
        "    Input('year--slider', 'value'))\n",
        "\n",
        "def update_graph(xaxis_column_name,selected_year):\n",
        "\n",
        "    # Aquí filtramos por año\n",
        "    filtered_df = df_mun_all[df_mun_all.año == selected_year]\n",
        "\n",
        "    # Aquí hacemos el scatter\n",
        "    #filtered_df.loc[filtered_df['valor'] < 200, 'desc_municipio'] = 'Otros' # Represent only large countries\n",
        "\n",
        "    fig = px.pie(filtered_df, values=filtered_df[filtered_df['indicador']== xaxis_column_name]['valor'],\n",
        "                 names=filtered_df[filtered_df['indicador']== xaxis_column_name]['desc_municipio'], title='Defunciones en el estado de guanajuato por categoria')                \n",
        "\n",
        "    fig.update_layout(transition_duration=500)\n",
        "\n",
        "    \n",
        "    return fig\n",
        "\n",
        "if __name__ == '__main__':\n",
        "    #app.run_server(mode='inline')\n",
        "    app.run_server(debug=True)\n",
        "    #app.run_server(debug=True, mode='inline')"
      ]
    }
  ],
  "metadata": {
    "colab": {
      "collapsed_sections": [],
      "include_colab_link": true,
      "provenance": []
    },
    "kernelspec": {
      "display_name": "Python 3.10.7 64-bit",
      "language": "python",
      "name": "python3"
    },
    "language_info": {
      "codemirror_mode": {
        "name": "ipython",
        "version": 3
      },
      "file_extension": ".py",
      "mimetype": "text/x-python",
      "name": "python",
      "nbconvert_exporter": "python",
      "pygments_lexer": "ipython3",
      "version": "3.10.7"
    },
    "vscode": {
      "interpreter": {
        "hash": "9b08c9044cd959939240cbf789e09a957ff3db95952f3f867613436645c90b3d"
      }
    }
  },
  "nbformat": 4,
  "nbformat_minor": 0
}
